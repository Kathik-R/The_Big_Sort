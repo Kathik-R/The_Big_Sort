{
 "cells": [
  {
   "cell_type": "code",
   "execution_count": 1,
   "metadata": {},
   "outputs": [],
   "source": [
    "import Basic_Risk_Assessment_Tools as brat"
   ]
  },
  {
   "cell_type": "code",
   "execution_count": 2,
   "metadata": {},
   "outputs": [],
   "source": [
    "import pandas as pd\n",
    "import numpy as np\n",
    "from nsepy import get_history\n",
    "import datetime\n",
    "import matplotlib\n",
    "%matplotlib inline\n",
    "import copy"
   ]
  },
  {
   "cell_type": "code",
   "execution_count": 3,
   "metadata": {},
   "outputs": [],
   "source": [
    "from scipy import stats\n",
    "from scipy.optimize import minimize\n",
    "%load_ext autoreload\n",
    "%autoreload 2"
   ]
  },
  {
   "cell_type": "code",
   "execution_count": 5,
   "metadata": {},
   "outputs": [
    {
     "name": "stdout",
     "output_type": "stream",
     "text": [
      "AVANTIFEED\n",
      "done :)\n",
      "BAJAJFINSV\n",
      "done :)\n",
      "BAJAJHLDNG\n",
      "done :)\n",
      "BAJFINANCE\n",
      "done :)\n",
      "BATAINDIA\n",
      "done :)\n",
      "BERGEPAINT\n",
      "done :)\n",
      "BRITANNIA\n",
      "done :)\n",
      "EICHERMOT\n",
      "done :)\n",
      "HDFCBANK\n",
      "done :)\n"
     ]
    }
   ],
   "source": [
    "start_date = datetime.date(2009,1,1)\n",
    "end_date = datetime.date.today()\n",
    "nse_tickers = [\"AVANTIFEED\",\"BAJAJFINSV\",\"BAJAJHLDNG\",\"BAJFINANCE\",\"BATAINDIA\",\"BERGEPAINT\",\"BRITANNIA\",\"EICHERMOT\",\"HDFCBANK\"]\n",
    "#[\"HINDUNILVR\",\"ICICIBANK\",\"JUBLFOOD\",\"M&M\",\"MOTHERSUMI\",\"NCC\",\"OLECTRA\",\"RELIANCE\",\"PIDILITIND\",\"SBICARD\",\"SBIN\",\"SOLARINDS\",\"TATACONSUM\",\"TRENT\",\"WESTLIFE\"]\n",
    "closing_prices, returns = brat.get_returns_from_close_as_dataframe(nse_tickers,start_date,end_date)"
   ]
  },
  {
   "cell_type": "code",
   "execution_count": 21,
   "metadata": {},
   "outputs": [
    {
     "data": {
      "text/html": [
       "<div>\n",
       "<style scoped>\n",
       "    .dataframe tbody tr th:only-of-type {\n",
       "        vertical-align: middle;\n",
       "    }\n",
       "\n",
       "    .dataframe tbody tr th {\n",
       "        vertical-align: top;\n",
       "    }\n",
       "\n",
       "    .dataframe thead th {\n",
       "        text-align: right;\n",
       "    }\n",
       "</style>\n",
       "<table border=\"1\" class=\"dataframe\">\n",
       "  <thead>\n",
       "    <tr style=\"text-align: right;\">\n",
       "      <th></th>\n",
       "      <th>Semi-Deviation</th>\n",
       "      <th>Gaussian VaR</th>\n",
       "      <th>Cornish-Fisher VaR</th>\n",
       "      <th>Conditional VaR</th>\n",
       "      <th>Historical VaR</th>\n",
       "    </tr>\n",
       "  </thead>\n",
       "  <tbody>\n",
       "    <tr>\n",
       "      <td>HDFCBANK</td>\n",
       "      <td>0.027208</td>\n",
       "      <td>0.038352</td>\n",
       "      <td>-0.229581</td>\n",
       "      <td>0.041971</td>\n",
       "      <td>0.021486</td>\n",
       "    </tr>\n",
       "    <tr>\n",
       "      <td>HINDUNILVR</td>\n",
       "      <td>0.009448</td>\n",
       "      <td>0.025256</td>\n",
       "      <td>0.016390</td>\n",
       "      <td>0.031320</td>\n",
       "      <td>0.022953</td>\n",
       "    </tr>\n",
       "    <tr>\n",
       "      <td>BRITANNIA</td>\n",
       "      <td>0.026308</td>\n",
       "      <td>0.038902</td>\n",
       "      <td>-0.167120</td>\n",
       "      <td>0.041977</td>\n",
       "      <td>0.022962</td>\n",
       "    </tr>\n",
       "    <tr>\n",
       "      <td>PIDILITIND</td>\n",
       "      <td>0.017663</td>\n",
       "      <td>0.032024</td>\n",
       "      <td>-0.015230</td>\n",
       "      <td>0.038112</td>\n",
       "      <td>0.023920</td>\n",
       "    </tr>\n",
       "    <tr>\n",
       "      <td>SOLARINDS</td>\n",
       "      <td>0.024896</td>\n",
       "      <td>0.039856</td>\n",
       "      <td>-0.137146</td>\n",
       "      <td>0.046254</td>\n",
       "      <td>0.025463</td>\n",
       "    </tr>\n",
       "    <tr>\n",
       "      <td>BAJAJHLDNG</td>\n",
       "      <td>0.014041</td>\n",
       "      <td>0.031291</td>\n",
       "      <td>0.025141</td>\n",
       "      <td>0.042701</td>\n",
       "      <td>0.026154</td>\n",
       "    </tr>\n",
       "    <tr>\n",
       "      <td>TRENT</td>\n",
       "      <td>0.025964</td>\n",
       "      <td>0.043968</td>\n",
       "      <td>-0.167028</td>\n",
       "      <td>0.044863</td>\n",
       "      <td>0.026670</td>\n",
       "    </tr>\n",
       "    <tr>\n",
       "      <td>RELIANCE</td>\n",
       "      <td>0.022485</td>\n",
       "      <td>0.038469</td>\n",
       "      <td>-0.010689</td>\n",
       "      <td>0.047227</td>\n",
       "      <td>0.027281</td>\n",
       "    </tr>\n",
       "    <tr>\n",
       "      <td>BATAINDIA</td>\n",
       "      <td>0.018513</td>\n",
       "      <td>0.037419</td>\n",
       "      <td>0.018076</td>\n",
       "      <td>0.046349</td>\n",
       "      <td>0.029738</td>\n",
       "    </tr>\n",
       "    <tr>\n",
       "      <td>TATACONSUM</td>\n",
       "      <td>0.027331</td>\n",
       "      <td>0.043806</td>\n",
       "      <td>-0.178898</td>\n",
       "      <td>0.050459</td>\n",
       "      <td>0.029865</td>\n",
       "    </tr>\n",
       "    <tr>\n",
       "      <td>EICHERMOT</td>\n",
       "      <td>0.013243</td>\n",
       "      <td>0.034789</td>\n",
       "      <td>0.026845</td>\n",
       "      <td>0.043873</td>\n",
       "      <td>0.030221</td>\n",
       "    </tr>\n",
       "    <tr>\n",
       "      <td>M&amp;M</td>\n",
       "      <td>0.022872</td>\n",
       "      <td>0.040491</td>\n",
       "      <td>0.003746</td>\n",
       "      <td>0.050652</td>\n",
       "      <td>0.031084</td>\n",
       "    </tr>\n",
       "    <tr>\n",
       "      <td>BERGEPAINT</td>\n",
       "      <td>0.019126</td>\n",
       "      <td>0.039297</td>\n",
       "      <td>0.026233</td>\n",
       "      <td>0.048303</td>\n",
       "      <td>0.031674</td>\n",
       "    </tr>\n",
       "    <tr>\n",
       "      <td>BAJAJFINSV</td>\n",
       "      <td>0.015648</td>\n",
       "      <td>0.036830</td>\n",
       "      <td>0.031056</td>\n",
       "      <td>0.048798</td>\n",
       "      <td>0.031703</td>\n",
       "    </tr>\n",
       "    <tr>\n",
       "      <td>BAJFINANCE</td>\n",
       "      <td>0.029284</td>\n",
       "      <td>0.048396</td>\n",
       "      <td>-0.082896</td>\n",
       "      <td>0.058343</td>\n",
       "      <td>0.033965</td>\n",
       "    </tr>\n",
       "    <tr>\n",
       "      <td>SBIN</td>\n",
       "      <td>0.027611</td>\n",
       "      <td>0.046545</td>\n",
       "      <td>-0.134103</td>\n",
       "      <td>0.053753</td>\n",
       "      <td>0.034246</td>\n",
       "    </tr>\n",
       "    <tr>\n",
       "      <td>ICICIBANK</td>\n",
       "      <td>0.025840</td>\n",
       "      <td>0.045701</td>\n",
       "      <td>-0.056450</td>\n",
       "      <td>0.055508</td>\n",
       "      <td>0.034859</td>\n",
       "    </tr>\n",
       "    <tr>\n",
       "      <td>JUBLFOOD</td>\n",
       "      <td>0.021194</td>\n",
       "      <td>0.044977</td>\n",
       "      <td>0.031888</td>\n",
       "      <td>0.057662</td>\n",
       "      <td>0.037620</td>\n",
       "    </tr>\n",
       "    <tr>\n",
       "      <td>MOTHERSUMI</td>\n",
       "      <td>0.025128</td>\n",
       "      <td>0.049589</td>\n",
       "      <td>0.047128</td>\n",
       "      <td>0.066476</td>\n",
       "      <td>0.038847</td>\n",
       "    </tr>\n",
       "    <tr>\n",
       "      <td>AVANTIFEED</td>\n",
       "      <td>0.042557</td>\n",
       "      <td>0.070324</td>\n",
       "      <td>0.004842</td>\n",
       "      <td>0.085836</td>\n",
       "      <td>0.043691</td>\n",
       "    </tr>\n",
       "    <tr>\n",
       "      <td>WESTLIFE</td>\n",
       "      <td>0.019289</td>\n",
       "      <td>0.052563</td>\n",
       "      <td>0.044489</td>\n",
       "      <td>0.068252</td>\n",
       "      <td>0.044862</td>\n",
       "    </tr>\n",
       "    <tr>\n",
       "      <td>OLECTRA</td>\n",
       "      <td>0.018121</td>\n",
       "      <td>0.055141</td>\n",
       "      <td>0.017204</td>\n",
       "      <td>0.061926</td>\n",
       "      <td>0.047379</td>\n",
       "    </tr>\n",
       "    <tr>\n",
       "      <td>NCC</td>\n",
       "      <td>0.023948</td>\n",
       "      <td>0.060002</td>\n",
       "      <td>0.053634</td>\n",
       "      <td>0.076923</td>\n",
       "      <td>0.051722</td>\n",
       "    </tr>\n",
       "    <tr>\n",
       "      <td>SBICARD</td>\n",
       "      <td>0.043237</td>\n",
       "      <td>0.075352</td>\n",
       "      <td>0.090717</td>\n",
       "      <td>0.136221</td>\n",
       "      <td>0.060747</td>\n",
       "    </tr>\n",
       "  </tbody>\n",
       "</table>\n",
       "</div>"
      ],
      "text/plain": [
       "            Semi-Deviation  Gaussian VaR  Cornish-Fisher VaR  Conditional VaR  \\\n",
       "HDFCBANK          0.027208      0.038352           -0.229581         0.041971   \n",
       "HINDUNILVR        0.009448      0.025256            0.016390         0.031320   \n",
       "BRITANNIA         0.026308      0.038902           -0.167120         0.041977   \n",
       "PIDILITIND        0.017663      0.032024           -0.015230         0.038112   \n",
       "SOLARINDS         0.024896      0.039856           -0.137146         0.046254   \n",
       "BAJAJHLDNG        0.014041      0.031291            0.025141         0.042701   \n",
       "TRENT             0.025964      0.043968           -0.167028         0.044863   \n",
       "RELIANCE          0.022485      0.038469           -0.010689         0.047227   \n",
       "BATAINDIA         0.018513      0.037419            0.018076         0.046349   \n",
       "TATACONSUM        0.027331      0.043806           -0.178898         0.050459   \n",
       "EICHERMOT         0.013243      0.034789            0.026845         0.043873   \n",
       "M&M               0.022872      0.040491            0.003746         0.050652   \n",
       "BERGEPAINT        0.019126      0.039297            0.026233         0.048303   \n",
       "BAJAJFINSV        0.015648      0.036830            0.031056         0.048798   \n",
       "BAJFINANCE        0.029284      0.048396           -0.082896         0.058343   \n",
       "SBIN              0.027611      0.046545           -0.134103         0.053753   \n",
       "ICICIBANK         0.025840      0.045701           -0.056450         0.055508   \n",
       "JUBLFOOD          0.021194      0.044977            0.031888         0.057662   \n",
       "MOTHERSUMI        0.025128      0.049589            0.047128         0.066476   \n",
       "AVANTIFEED        0.042557      0.070324            0.004842         0.085836   \n",
       "WESTLIFE          0.019289      0.052563            0.044489         0.068252   \n",
       "OLECTRA           0.018121      0.055141            0.017204         0.061926   \n",
       "NCC               0.023948      0.060002            0.053634         0.076923   \n",
       "SBICARD           0.043237      0.075352            0.090717         0.136221   \n",
       "\n",
       "            Historical VaR  \n",
       "HDFCBANK          0.021486  \n",
       "HINDUNILVR        0.022953  \n",
       "BRITANNIA         0.022962  \n",
       "PIDILITIND        0.023920  \n",
       "SOLARINDS         0.025463  \n",
       "BAJAJHLDNG        0.026154  \n",
       "TRENT             0.026670  \n",
       "RELIANCE          0.027281  \n",
       "BATAINDIA         0.029738  \n",
       "TATACONSUM        0.029865  \n",
       "EICHERMOT         0.030221  \n",
       "M&M               0.031084  \n",
       "BERGEPAINT        0.031674  \n",
       "BAJAJFINSV        0.031703  \n",
       "BAJFINANCE        0.033965  \n",
       "SBIN              0.034246  \n",
       "ICICIBANK         0.034859  \n",
       "JUBLFOOD          0.037620  \n",
       "MOTHERSUMI        0.038847  \n",
       "AVANTIFEED        0.043691  \n",
       "WESTLIFE          0.044862  \n",
       "OLECTRA           0.047379  \n",
       "NCC               0.051722  \n",
       "SBICARD           0.060747  "
      ]
     },
     "execution_count": 21,
     "metadata": {},
     "output_type": "execute_result"
    }
   ],
   "source": [
    "var_df = brat.get_semideviation_var_cvar(returns, 5)\n",
    "var_df.sort_values(by=['Historical VaR'])"
   ]
  },
  {
   "cell_type": "code",
   "execution_count": 6,
   "metadata": {},
   "outputs": [
    {
     "data": {
      "text/plain": [
       "dict_keys(['BAJAJFINSV', 'BAJAJHLDNG', 'BAJFINANCE', 'BATAINDIA', 'BERGEPAINT', 'BRITANNIA', 'EICHERMOT', 'HDFCBANK'])"
      ]
     },
     "execution_count": 6,
     "metadata": {},
     "output_type": "execute_result"
    }
   ],
   "source": [
    "# remove AvantiFeed, SBICard and Westlife from returns\n",
    "new_dict = copy.deepcopy(returns)\n",
    "for key in returns.keys():\n",
    "    if key==\"AVANTIFEED\" or key==\"SBICARD\" or key==\"WESTLIFE\":\n",
    "        del new_dict[key]\n",
    "similar_length_returns = new_dict.copy()\n",
    "similar_length_returns.keys()"
   ]
  },
  {
   "cell_type": "code",
   "execution_count": 7,
   "metadata": {},
   "outputs": [],
   "source": [
    "def get_portfolio_return(weights, annualized_returns):\n",
    "    '''\n",
    "    INPUT: weights and the cobined dataframe of returns of all companies.\n",
    "    weights are a numpy array or Nx1 matrix and returns are a numpy array or Nx1 matrix\n",
    "    \n",
    "    OUTPUT: weighted return of the portfolio\n",
    "    '''\n",
    "    return weights.T @ annualized_returns"
   ]
  },
  {
   "cell_type": "code",
   "execution_count": 8,
   "metadata": {},
   "outputs": [],
   "source": [
    "def get_portfolio_vol(weights, cov_matrix):\n",
    "    \"\"\"\n",
    "    INPUT: weights are a numpy array or N x 1 maxtrix and covmat is an N x N matrix\n",
    "    \n",
    "    OUTPUT: the volatility of the portfolio.\n",
    "    \n",
    "    Computes the vol of a portfolio from a covariance matrix and constituent weights\n",
    "    \"\"\"\n",
    "    return (weights.T @ cov_matrix @ weights)**0.5"
   ]
  },
  {
   "cell_type": "code",
   "execution_count": 13,
   "metadata": {},
   "outputs": [
    {
     "data": {
      "text/plain": [
       "0.1367554409963145"
      ]
     },
     "execution_count": 13,
     "metadata": {},
     "output_type": "execute_result"
    }
   ],
   "source": [
    "stats = brat.get_AnnVol_AnnRet_Ret2Risk_Sharpe(returns_2)\n",
    "ann_return = stats['Annualized Returns']\n",
    "\n",
    "combined_returns_df, cov_matrix = brat.get_covariance_matrix(returns_2)\n",
    "\n",
    "number_of_assets = len([\"BAJAJFINSV\",\"BAJAJHLDNG\",\"BAJFINANCE\",\"BATAINDIA\",\"BERGEPAINT\",\"BRITANNIA\",\"EICHERMOT\",\"HDFCBANK\",\"HINDUNILVR\",\"ICICIBANK\",\"JUBLFOOD\",\"M&M\",\"MOTHERSUMI\",\"NCC\",\"OLECTRA\",\"RELIANCE\",\"PIDILITIND\",\"SBIN\",\"SOLARINDS\",\"TATACONSUM\",\"TRENT\"])\n",
    "weights = np.repeat(1/number_of_assets, number_of_assets)\n",
    "\n",
    "brat.get_portfolio_return(weights, ann_return)"
   ]
  },
  {
   "cell_type": "code",
   "execution_count": 14,
   "metadata": {
    "scrolled": true
   },
   "outputs": [
    {
     "data": {
      "text/plain": [
       "0.011858385213567553"
      ]
     },
     "execution_count": 14,
     "metadata": {},
     "output_type": "execute_result"
    }
   ],
   "source": [
    "brat.get_portfolio_vol(weights, cov_matrix)"
   ]
  },
  {
   "cell_type": "markdown",
   "metadata": {},
   "source": [
    "# 2 Asset Frontier"
   ]
  },
  {
   "cell_type": "code",
   "execution_count": 9,
   "metadata": {},
   "outputs": [
    {
     "name": "stdout",
     "output_type": "stream",
     "text": [
      "BAJAJHLDNG\n",
      "done :)\n",
      "JUBLFOOD\n",
      "done :)\n"
     ]
    }
   ],
   "source": [
    "start_date = datetime.date(2009,1,1)\n",
    "end_date = datetime.date.today()\n",
    "nse_tickers = [\"BAJAJHLDNG\",\"JUBLFOOD\"]\n",
    "closing_prices, returns_2 = brat.get_returns_from_close_as_dataframe(nse_tickers, start_date, end_date)"
   ]
  },
  {
   "cell_type": "code",
   "execution_count": 10,
   "metadata": {},
   "outputs": [],
   "source": [
    "frontier = brat.get_efficient_frontier_2assets(returns_2, 50)"
   ]
  },
  {
   "cell_type": "code",
   "execution_count": 11,
   "metadata": {},
   "outputs": [
    {
     "data": {
      "image/png": "[encoded data removed]",
      "text/plain": [
       "<Figure size 432x288 with 1 Axes>"
      ]
     },
     "metadata": {
      "needs_background": "light"
     },
     "output_type": "display_data"
    }
   ],
   "source": [
    "frontier_plot = frontier.plot.scatter(x='Portfolio Volatility', y='Portfolio Return')"
   ]
  },
  {
   "cell_type": "markdown",
   "metadata": {},
   "source": [
    "# Efficient Frontier for N Assets"
   ]
  },
  {
   "cell_type": "code",
   "execution_count": 9,
   "metadata": {},
   "outputs": [],
   "source": [
    "def minimize_vol(returns, target_return):\n",
    "    \"\"\"\n",
    "    INPUT: returns of assets in portfolio and target return for the portfolio\n",
    "    \n",
    "    OUTPUT: The frontier weights for a portfolio consisting of\n",
    "    the input assets\n",
    "    \"\"\"\n",
    "    n_assets = len(list(returns.keys()))\n",
    "    init_guess = np.repeat(1/n_assets, n_assets)\n",
    "    bound = ((0.0,1.0),)*n_assets\n",
    "    \n",
    "    ann_returns = brat.get_AnnVol_AnnRet_Ret2Risk_Sharpe(returns)['Annualized Returns']\n",
    "    combined_returns_df, cov_matrix = brat.get_covariance_matrix(returns)\n",
    "    \n",
    "    return_is_target = {\n",
    "        'type': 'eq',\n",
    "        'args': (ann_returns,),\n",
    "        'fun': lambda weights, ann_returns: target_return - brat.get_portfolio_return(weights, ann_returns)\n",
    "    }\n",
    "    weights_sum_to_1 = {\n",
    "        'type': 'eq',\n",
    "        'fun': lambda weights: np.sum(weights) - 1\n",
    "    }\n",
    "    \n",
    "    results = minimize(brat.get_portfolio_vol, init_guess,\n",
    "                      args=(cov_matrix,), method='SLSQP',\n",
    "                       options={'disp': False},\n",
    "                       constraints=(weights_sum_to_1,return_is_target),\n",
    "                       bounds=bound)\n",
    "    \n",
    "    return results.x"
   ]
  },
  {
   "cell_type": "code",
   "execution_count": 13,
   "metadata": {},
   "outputs": [
    {
     "data": {
      "text/plain": [
       "0.02805681689952815"
      ]
     },
     "execution_count": 13,
     "metadata": {},
     "output_type": "execute_result"
    }
   ],
   "source": [
    "w = brat.minimize_vol(returns_2, 0.227)\n",
    "combined_returns_df, cov_matrix_2 = brat.get_covariance_matrix(returns_2)\n",
    "brat.get_portfolio_vol(w, cov_matrix_2)"
   ]
  },
  {
   "cell_type": "code",
   "execution_count": 10,
   "metadata": {},
   "outputs": [],
   "source": [
    "def get_frontier_weights(returns, num_target_points=50):\n",
    "    \"\"\"\n",
    "    INPUT: returns of assets to be used in portfolio and number of\n",
    "    points for which you need the weights\n",
    "    \n",
    "    OUTPUT: gives a list of returns between the min and max \n",
    "    annualised returns among the assets that are to be included\n",
    "    in the portfolio\n",
    "    \"\"\"\n",
    "    ann_returns = brat.get_AnnVol_AnnRet_Ret2Risk_Sharpe(returns)['Annualized Returns']\n",
    "    frontier_target_returns = np.linspace(ann_returns.min(), ann_returns.max(), num_target_points)\n",
    "    frontier_target_weights = [minimize_vol(returns, target_return) for target_return in frontier_target_returns]\n",
    "    return frontier_target_weights"
   ]
  },
  {
   "cell_type": "code",
   "execution_count": 11,
   "metadata": {},
   "outputs": [],
   "source": [
    "def plot_efficient_frontier(returns, num_of_front_pts=50,plot_ewp=False, plot_gmv=False):\n",
    "    \"\"\"\n",
    "    Plots the multi-asset efficient frontier\n",
    "    \n",
    "    INPUT: returns of assets in portfolio and number of points on\n",
    "    the frontier that you wish to plot\n",
    "    \n",
    "    OUTPUT: risk vs return plot \n",
    "    \"\"\"\n",
    "    optimal_weights = get_frontier_weights(returns, num_of_front_pts)\n",
    "    ann_returns = brat.get_AnnVol_AnnRet_Ret2Risk_Sharpe(returns)['Annualized Returns']\n",
    "    combined_returns_df, cov_matrix = brat.get_covariance_matrix(returns)\n",
    "    rets = [brat.get_portfolio_return(w, ann_returns) for w in optimal_weights]\n",
    "    vols = [brat.get_portfolio_vol(w, cov_matrix) for w in optimal_weights]\n",
    "    ef = pd.DataFrame({\n",
    "        \"Returns\": rets, \n",
    "        \"Volatility\": vols\n",
    "    })\n",
    "    return ef.plot.line(x=\"Volatility\", y=\"Returns\", style='.-')"
   ]
  },
  {
   "cell_type": "code",
   "execution_count": 21,
   "metadata": {},
   "outputs": [],
   "source": [
    "optimal_weights = get_frontier_weights(similar_length_returns, 50)"
   ]
  },
  {
   "cell_type": "code",
   "execution_count": 22,
   "metadata": {
    "scrolled": true
   },
   "outputs": [
    {
     "data": {
      "text/plain": [
       "<matplotlib.axes._subplots.AxesSubplot at 0x12340f8e188>"
      ]
     },
     "execution_count": 22,
     "metadata": {},
     "output_type": "execute_result"
    },
    {
     "data": {
      "image/png": "[encoded data removed]",
      "text/plain": [
       "<Figure size 432x288 with 1 Axes>"
      ]
     },
     "metadata": {
      "needs_background": "light"
     },
     "output_type": "display_data"
    }
   ],
   "source": [
    "plot_efficient_frontier(similar_length_returns, 50)"
   ]
  },
  {
   "cell_type": "code",
   "execution_count": 59,
   "metadata": {},
   "outputs": [],
   "source": [
    "def plot_efficient_frontier(returns, num_of_front_pts=50, plot_cml=True, risk_free_rate=0.0581):\n",
    "    \"\"\"\n",
    "    Plots the multi-asset efficient frontier\n",
    "    \n",
    "    INPUT: returns of assets in portfolio and number of points on\n",
    "    the frontier that you wish to plot\n",
    "    \n",
    "    OUTPUT: risk vs return plot \n",
    "    \"\"\"\n",
    "    optimal_weights = get_frontier_weights(returns, num_of_front_pts)\n",
    "    annualized_return = brat.get_AnnVol_AnnRet_Ret2Risk_Sharpe(returns)['Annualized Returns']\n",
    "    combined_returns_df, cov_matrix = brat.get_covariance_matrix(returns)\n",
    "    rets = [get_portfolio_return(w, annualized_return) for w in optimal_weights]\n",
    "    vols = [get_portfolio_vol(w, cov_matrix) for w in optimal_weights]\n",
    "    \n",
    "    msr_weights = maximize_sharpe_ratio(returns)\n",
    "    msr_return = get_portfolio_return(msr_weights, brat.get_AnnVol_AnnRet_Ret2Risk_Sharpe(returns)['Annualized Returns'])\n",
    "    msr_vol = get_portfolio_vol(msr_weights, cov_matrix)\n",
    "    \n",
    "    ef = pd.DataFrame({\n",
    "        \"Returns\": rets, \n",
    "        \"Volatility\": vols\n",
    "    })\n",
    "    \n",
    "    axes = ef.plot.line(x=\"Volatility\", y=\"Returns\", style='.-')\n",
    "    axes.set_xlim(left=0)\n",
    "    \n",
    "    if plot_cml:\n",
    "        cml_x = [0, msr_vol]\n",
    "        cml_y = [risk_free_rate, msr_return]\n",
    "        axes.plot(cml_x, cml_y, color=\"green\", marker=\"o\", linestyle=\"dashed\")\n",
    "        \n",
    "    return axes"
   ]
  },
  {
   "cell_type": "code",
   "execution_count": 60,
   "metadata": {},
   "outputs": [
    {
     "data": {
      "text/plain": [
       "<matplotlib.axes._subplots.AxesSubplot at 0x268500962c8>"
      ]
     },
     "execution_count": 60,
     "metadata": {},
     "output_type": "execute_result"
    },
    {
     "data": {
      "image/png": "[encoded data removed]",
      "text/plain": [
       "<Figure size 432x288 with 1 Axes>"
      ]
     },
     "metadata": {
      "needs_background": "light"
     },
     "output_type": "display_data"
    }
   ],
   "source": [
    "plot_efficient_frontier(similar_length_returns, 50)"
   ]
  },
  {
   "cell_type": "markdown",
   "metadata": {},
   "source": [
    "# Maximum Sharpe Ratio Portfolio"
   ]
  },
  {
   "cell_type": "code",
   "execution_count": 61,
   "metadata": {},
   "outputs": [],
   "source": [
    "def maximize_sharpe_ratio(returns, risk_free_rate=0.0581):\n",
    "    \"\"\"\n",
    "    INPUT: returns of assets in portfolio and risk free rate of return\n",
    "    \n",
    "    OUTPUT: The frontier weights for a portfolio consisting of\n",
    "    the input assets\n",
    "    \"\"\"\n",
    "    n_assets = len(list(returns.keys()))\n",
    "    init_guess = np.repeat(1/n_assets, n_assets)\n",
    "    bound = ((0.0,1.0),)*n_assets\n",
    "    \n",
    "    annualized_returns = brat.get_AnnVol_AnnRet_Ret2Risk_Sharpe(returns)['Annualized Returns']\n",
    "    combined_returns_df, cov_matrix = brat.get_covariance_matrix(returns)\n",
    "    \n",
    "    weights_sum_to_1 = {\n",
    "        'type': 'eq',\n",
    "        'fun': lambda weights: np.sum(weights) - 1\n",
    "    }\n",
    "    \n",
    "    def neg_sharpe_ratio(weights, risk_free_rate, annualized_returns, cov_matrix):\n",
    "        \"\"\"\n",
    "        Return the negative of the Sharpe Ratio\n",
    "        \"\"\"\n",
    "        port_return = get_portfolio_return(weights, annualized_returns)\n",
    "        port_vol = get_portfolio_vol(weights, cov_matrix)\n",
    "        neg_sharpe_ratio = -((port_return-risk_free_rate)/port_vol)\n",
    "        return neg_sharpe_ratio\n",
    "    \n",
    "    results = minimize(neg_sharpe_ratio, init_guess,\n",
    "                       args=(risk_free_rate, annualized_returns, cov_matrix,), \n",
    "                       method='SLSQP',\n",
    "                       options={'disp': False},\n",
    "                       constraints=(weights_sum_to_1),\n",
    "                       bounds=bound)\n",
    "    \n",
    "    return results.x"
   ]
  },
  {
   "cell_type": "code",
   "execution_count": 62,
   "metadata": {},
   "outputs": [],
   "source": [
    "def plot_efficient_frontier(returns, num_of_front_pts=50, plot_cml=True, plot_ewp=True, risk_free_rate=0.0581):\n",
    "    \"\"\"\n",
    "    Plots the multi-asset efficient frontier\n",
    "    \n",
    "    INPUT: returns of assets in portfolio and number of points on\n",
    "    the frontier that you wish to plot\n",
    "    \n",
    "    OUTPUT: risk vs return plot \n",
    "    \"\"\"\n",
    "    optimal_weights = get_frontier_weights(returns, num_of_front_pts)\n",
    "    annualized_return = brat.get_AnnVol_AnnRet_Ret2Risk_Sharpe(returns)['Annualized Returns']\n",
    "    combined_returns_df, cov_matrix = brat.get_covariance_matrix(returns)\n",
    "    rets = [get_portfolio_return(w, annualized_return) for w in optimal_weights]\n",
    "    vols = [get_portfolio_vol(w, cov_matrix) for w in optimal_weights]\n",
    "    \n",
    "    msr_weights = maximize_sharpe_ratio(returns)\n",
    "    msr_return = get_portfolio_return(msr_weights, brat.get_AnnVol_AnnRet_Ret2Risk_Sharpe(returns)['Annualized Returns'])\n",
    "    msr_vol = get_portfolio_vol(msr_weights, cov_matrix)\n",
    "    \n",
    "    ef = pd.DataFrame({\n",
    "        \"Returns\": rets, \n",
    "        \"Volatility\": vols\n",
    "    })\n",
    "    \n",
    "    axes = ef.plot.line(x=\"Volatility\", y=\"Returns\", style='.-')\n",
    "    axes.set_xlim(left=0)\n",
    "    \n",
    "    if plot_cml:\n",
    "        cml_x = [0, msr_vol]\n",
    "        cml_y = [risk_free_rate, msr_return]\n",
    "        axes.plot(cml_x, cml_y, color=\"green\", marker=\"o\", linestyle=\"dashed\")\n",
    "        \n",
    "    if plot_ewp:\n",
    "        equal_wt_port_weights = np.repeat(1/annualized_return.shape[0], annualized_return.shape[0])\n",
    "        equal_wt_return = get_portfolio_return(equal_wt_port_weights, annualized_return)\n",
    "        equal_wt_vol = get_portfolio_vol(equal_wt_port_weights, cov_matrix)\n",
    "        axes.plot([equal_wt_vol], [equal_wt_return], color=\"goldenrod\", marker=\"o\", markersize=7)\n",
    "        \n",
    "    return axes"
   ]
  },
  {
   "cell_type": "code",
   "execution_count": 63,
   "metadata": {},
   "outputs": [
    {
     "data": {
      "text/plain": [
       "<matplotlib.axes._subplots.AxesSubplot at 0x2684e9efe48>"
      ]
     },
     "execution_count": 63,
     "metadata": {},
     "output_type": "execute_result"
    },
    {
     "data": {
      "image/png": "[encoded data removed]",
      "text/plain": [
       "<Figure size 432x288 with 1 Axes>"
      ]
     },
     "metadata": {
      "needs_background": "light"
     },
     "output_type": "display_data"
    }
   ],
   "source": [
    "plot_efficient_frontier(similar_length_returns, 50)"
   ]
  },
  {
   "cell_type": "markdown",
   "metadata": {},
   "source": [
    "# Global Minimum Variance Portfolio"
   ]
  },
  {
   "cell_type": "code",
   "execution_count": 51,
   "metadata": {},
   "outputs": [],
   "source": [
    "def global_minimum_vol(returns, risk_free_rate=0):\n",
    "    \"\"\"\n",
    "    INPUT: returns of assets in portfolio\n",
    "    \n",
    "    OUTPUT: Weights of Global Minimum Volatility Portfolio\n",
    "    \"\"\"\n",
    "    n_assets = len(list(returns.keys()))\n",
    "    init_guess = np.repeat(1/n_assets, n_assets)\n",
    "    bound = ((0.0,1.0),)*n_assets\n",
    "    \n",
    "    annualized_returns = pd.Series([1]*n_assets, index =list(returns.keys())) \n",
    "    combined_returns_df, cov_matrix = brat.get_covariance_matrix(returns)\n",
    "    \n",
    "    weights_sum_to_1 = {\n",
    "        'type': 'eq',\n",
    "        'fun': lambda weights: np.sum(weights) - 1\n",
    "    }\n",
    "    \n",
    "    def neg_sharpe_ratio(weights, risk_free_rate, annualized_returns, cov_matrix):\n",
    "        \"\"\"\n",
    "        Return the negative of the Sharpe Ratio\n",
    "        \"\"\"\n",
    "        port_return = get_portfolio_return(weights, annualized_returns)\n",
    "        port_vol = get_portfolio_vol(weights, cov_matrix)\n",
    "        neg_sharpe_ratio = -((port_return-risk_free_rate)/port_vol)\n",
    "        return neg_sharpe_ratio\n",
    "    \n",
    "    results = minimize(neg_sharpe_ratio, init_guess,\n",
    "                       args=(risk_free_rate, annualized_returns, cov_matrix,), \n",
    "                       method='SLSQP',\n",
    "                       options={'disp': False},\n",
    "                       constraints=(weights_sum_to_1),\n",
    "                       bounds=bound)\n",
    "    \n",
    "    return results.x"
   ]
  },
  {
   "cell_type": "code",
   "execution_count": 66,
   "metadata": {},
   "outputs": [],
   "source": [
    "def plot_efficient_frontier(returns, num_of_front_pts=50, plot_cml=True, plot_ewp=True, plot_gmv=True, risk_free_rate=0.0581):\n",
    "    \"\"\"\n",
    "    Plots the multi-asset efficient frontier\n",
    "    \n",
    "    INPUT: returns of assets in portfolio and number of points on\n",
    "    the frontier that you wish to plot\n",
    "    \n",
    "    OUTPUT: risk vs return plot \n",
    "    \"\"\"\n",
    "    optimal_weights = get_frontier_weights(returns, num_of_front_pts)\n",
    "    annualized_return = brat.get_AnnVol_AnnRet_Ret2Risk_Sharpe(returns)['Annualized Returns']\n",
    "    combined_returns_df, cov_matrix = brat.get_covariance_matrix(returns)\n",
    "    rets = [get_portfolio_return(w, annualized_return) for w in optimal_weights]\n",
    "    vols = [get_portfolio_vol(w, cov_matrix) for w in optimal_weights]\n",
    "    \n",
    "    msr_weights = maximize_sharpe_ratio(returns)\n",
    "    msr_return = get_portfolio_return(msr_weights, brat.get_AnnVol_AnnRet_Ret2Risk_Sharpe(returns)['Annualized Returns'])\n",
    "    msr_vol = get_portfolio_vol(msr_weights, cov_matrix)\n",
    "    \n",
    "    ef = pd.DataFrame({\n",
    "        \"Returns\": rets, \n",
    "        \"Volatility\": vols\n",
    "    })\n",
    "    \n",
    "    axes = ef.plot.line(x=\"Volatility\", y=\"Returns\", style='.-')\n",
    "    axes.set_xlim(left=0)\n",
    "    \n",
    "    if plot_cml:\n",
    "        cml_x = [0, msr_vol]\n",
    "        cml_y = [risk_free_rate, msr_return]\n",
    "        axes.plot(cml_x, cml_y, color=\"green\", marker=\"o\", linestyle=\"dashed\")\n",
    "        \n",
    "    if plot_ewp:\n",
    "        equal_wt_port_weights = np.repeat(1/annualized_return.shape[0], annualized_return.shape[0])\n",
    "        equal_wt_return = get_portfolio_return(equal_wt_port_weights, annualized_return)\n",
    "        equal_wt_vol = get_portfolio_vol(equal_wt_port_weights, cov_matrix)\n",
    "        axes.plot([equal_wt_vol], [equal_wt_return], color=\"goldenrod\", marker=\"o\", markersize=7)\n",
    "    \n",
    "    if plot_gmv:\n",
    "        gmv_weights = global_minimum_vol(returns)\n",
    "        gmv_return = get_portfolio_return(gmv_weights, annualized_return)\n",
    "        gmv_vol = get_portfolio_vol(gmv_weights, cov_matrix)\n",
    "        axes.plot([gmv_vol], [gmv_return], color=\"midnightblue\", marker=\"o\", markersize=7)\n",
    "    \n",
    "    return axes"
   ]
  },
  {
   "cell_type": "code",
   "execution_count": 67,
   "metadata": {},
   "outputs": [
    {
     "data": {
      "text/plain": [
       "<matplotlib.axes._subplots.AxesSubplot at 0x2684fdc1508>"
      ]
     },
     "execution_count": 67,
     "metadata": {},
     "output_type": "execute_result"
    },
    {
     "data": {
      "image/png": "[encoded data removed]",
      "text/plain": [
       "<Figure size 432x288 with 1 Axes>"
      ]
     },
     "metadata": {
      "needs_background": "light"
     },
     "output_type": "display_data"
    }
   ],
   "source": [
    "plot_efficient_frontier(similar_length_returns, 50)"
   ]
  },
  {
   "cell_type": "code",
   "execution_count": 68,
   "metadata": {},
   "outputs": [
    {
     "data": {
      "text/plain": [
       "<matplotlib.axes._subplots.AxesSubplot at 0x2684fdccc88>"
      ]
     },
     "execution_count": 68,
     "metadata": {},
     "output_type": "execute_result"
    },
    {
     "data": {
      "image/png": "[encoded data removed]",
      "text/plain": [
       "<Figure size 432x288 with 1 Axes>"
      ]
     },
     "metadata": {
      "needs_background": "light"
     },
     "output_type": "display_data"
    }
   ],
   "source": [
    "brat.plot_efficient_frontier(similar_length_returns, 50)"
   ]
  },
  {
   "cell_type": "code",
   "execution_count": null,
   "metadata": {},
   "outputs": [],
   "source": []
  },
  {
   "cell_type": "code",
   "execution_count": null,
   "metadata": {},
   "outputs": [],
   "source": []
  },
  {
   "cell_type": "code",
   "execution_count": null,
   "metadata": {},
   "outputs": [],
   "source": []
  },
  {
   "cell_type": "code",
   "execution_count": null,
   "metadata": {},
   "outputs": [],
   "source": []
  },
  {
   "cell_type": "code",
   "execution_count": null,
   "metadata": {},
   "outputs": [],
   "source": []
  },
  {
   "cell_type": "code",
   "execution_count": null,
   "metadata": {},
   "outputs": [],
   "source": []
  },
  {
   "cell_type": "code",
   "execution_count": null,
   "metadata": {},
   "outputs": [],
   "source": []
  },
  {
   "cell_type": "code",
   "execution_count": null,
   "metadata": {},
   "outputs": [],
   "source": []
  },
  {
   "cell_type": "code",
   "execution_count": null,
   "metadata": {},
   "outputs": [],
   "source": []
  },
  {
   "cell_type": "code",
   "execution_count": null,
   "metadata": {},
   "outputs": [],
   "source": []
  },
  {
   "cell_type": "code",
   "execution_count": null,
   "metadata": {},
   "outputs": [],
   "source": []
  },
  {
   "cell_type": "code",
   "execution_count": null,
   "metadata": {},
   "outputs": [],
   "source": []
  },
  {
   "cell_type": "code",
   "execution_count": null,
   "metadata": {},
   "outputs": [],
   "source": []
  },
  {
   "cell_type": "code",
   "execution_count": null,
   "metadata": {},
   "outputs": [],
   "source": []
  },
  {
   "cell_type": "code",
   "execution_count": null,
   "metadata": {},
   "outputs": [],
   "source": []
  },
  {
   "cell_type": "code",
   "execution_count": null,
   "metadata": {},
   "outputs": [],
   "source": []
  },
  {
   "cell_type": "code",
   "execution_count": null,
   "metadata": {},
   "outputs": [],
   "source": []
  }
 ],
 "metadata": {
  "kernelspec": {
   "display_name": "Python 3",
   "language": "python",
   "name": "python3"
  },
  "language_info": {
   "codemirror_mode": {
    "name": "ipython",
    "version": 3
   },
   "file_extension": ".py",
   "mimetype": "text/x-python",
   "name": "python",
   "nbconvert_exporter": "python",
   "pygments_lexer": "ipython3",
   "version": "3.7.4"
  }
 },
 "nbformat": 4,
 "nbformat_minor": 2
}
