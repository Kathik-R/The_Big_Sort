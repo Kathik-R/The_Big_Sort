{
 "cells": [
  {
   "cell_type": "markdown",
   "metadata": {},
   "source": [
    "# Sharpe Style Analysis\n",
    "\n",
    "Sharpe Style Analysis is an elegant and simple decomposition with the added constraint that the coefficients are all positive and add to 1.\n",
    "\n",
    "Therefore, the coefficients of performing style analysis on the observed return of a manager can be interpreted as weights in a portfolio of building blocks which together, _mimic_ that return series. The exercise can reveal drifts in a manager's style as well as provide insight into what the manager is likely doing to obtain the returns."
   ]
  },
  {
   "cell_type": "code",
   "execution_count": 30,
   "metadata": {},
   "outputs": [],
   "source": [
    "import pandas as pd\n",
    "from nsepy import get_history\n",
    "import datetime\n",
    "import numpy as np\n",
    "%matplotlib inline"
   ]
  },
  {
   "cell_type": "code",
   "execution_count": 24,
   "metadata": {},
   "outputs": [],
   "source": [
    "import Basic_Risk_Assessment_Tools as brat"
   ]
  },
  {
   "cell_type": "code",
   "execution_count": 3,
   "metadata": {},
   "outputs": [],
   "source": [
    "%load_ext autoreload\n",
    "%autoreload 2"
   ]
  },
  {
   "cell_type": "code",
   "execution_count": 6,
   "metadata": {},
   "outputs": [
    {
     "data": {
      "text/html": [
       "<div>\n",
       "<style scoped>\n",
       "    .dataframe tbody tr th:only-of-type {\n",
       "        vertical-align: middle;\n",
       "    }\n",
       "\n",
       "    .dataframe tbody tr th {\n",
       "        vertical-align: top;\n",
       "    }\n",
       "\n",
       "    .dataframe thead th {\n",
       "        text-align: right;\n",
       "    }\n",
       "</style>\n",
       "<table border=\"1\" class=\"dataframe\">\n",
       "  <thead>\n",
       "    <tr style=\"text-align: right;\">\n",
       "      <th></th>\n",
       "      <th>Returns</th>\n",
       "    </tr>\n",
       "    <tr>\n",
       "      <th>Date</th>\n",
       "      <th></th>\n",
       "    </tr>\n",
       "  </thead>\n",
       "  <tbody>\n",
       "    <tr>\n",
       "      <td>2020-03</td>\n",
       "      <td>-0.210893</td>\n",
       "    </tr>\n",
       "    <tr>\n",
       "      <td>2020-04</td>\n",
       "      <td>0.107913</td>\n",
       "    </tr>\n",
       "    <tr>\n",
       "      <td>2020-05</td>\n",
       "      <td>-0.034474</td>\n",
       "    </tr>\n",
       "    <tr>\n",
       "      <td>2020-06</td>\n",
       "      <td>0.053615</td>\n",
       "    </tr>\n",
       "    <tr>\n",
       "      <td>2020-07</td>\n",
       "      <td>0.038697</td>\n",
       "    </tr>\n",
       "  </tbody>\n",
       "</table>\n",
       "</div>"
      ],
      "text/plain": [
       "          Returns\n",
       "Date             \n",
       "2020-03 -0.210893\n",
       "2020-04  0.107913\n",
       "2020-05 -0.034474\n",
       "2020-06  0.053615\n",
       "2020-07  0.038697"
      ]
     },
     "execution_count": 6,
     "metadata": {},
     "output_type": "execute_result"
    }
   ],
   "source": [
    "dateparse = lambda x: pd.datetime.strptime(x, '%d-%m-%Y')\n",
    "\n",
    "axis_nav = pd.read_excel(\"Data/Axis_NAV.xlsx\", parse_dates=True, date_parser=dateparse,index_col=0)\n",
    "axis_nav.sort_index(ascending=True, inplace=True)\n",
    "axis_rets_d = axis_nav.pct_change().drop(list(axis_nav.index)[0])\n",
    "axis_rets_d.columns = ['Returns']\n",
    "axis_rets_m = axis_rets_d.resample('M').apply(brat.compound).to_period('M')\n",
    "axis_rets_m.tail()"
   ]
  },
  {
   "cell_type": "code",
   "execution_count": 9,
   "metadata": {
    "scrolled": true
   },
   "outputs": [
    {
     "data": {
      "text/plain": [
       "['NIFTY 50 Pre Open',\n",
       " 'NIFTY 50',\n",
       " 'NIFTY NEXT 50',\n",
       " 'NIFTY100 LIQ 15',\n",
       " 'NIFTY BANK',\n",
       " 'INDIA VIX',\n",
       " 'NIFTY 100',\n",
       " 'NIFTY 500',\n",
       " 'NIFTY MIDCAP 100',\n",
       " 'NIFTY MIDCAP 50',\n",
       " 'NIFTY INFRA',\n",
       " 'NIFTY REALTY',\n",
       " 'NIFTY ENERGY',\n",
       " 'NIFTY FMCG',\n",
       " 'NIFTY MNC',\n",
       " 'NIFTY PHARMA',\n",
       " 'NIFTY PSE',\n",
       " 'NIFTY PSU BANK',\n",
       " 'NIFTY SERV SECTOR',\n",
       " 'NIFTY IT',\n",
       " 'NIFTY SMLCAP 100',\n",
       " 'NIFTY 200',\n",
       " 'NIFTY AUTO',\n",
       " 'NIFTY MEDIA',\n",
       " 'NIFTY METAL',\n",
       " 'NIFTY DIV OPPS 50',\n",
       " 'NIFTY COMMODITIES',\n",
       " 'NIFTY CONSUMPTION',\n",
       " 'NIFTY CPSE',\n",
       " 'NIFTY FIN SERVICE',\n",
       " 'NIFTY GROWSECT 15',\n",
       " 'NIFTY50 VALUE 20',\n",
       " 'NIFTY50 TR 2X LEV',\n",
       " 'NIFTY50 PR 2X LEV',\n",
       " 'NIFTY50 TR 1X INV',\n",
       " 'NIFTY50 PR 1X INV',\n",
       " 'NIFTY ALPHA 50',\n",
       " 'NIFTY50 EQL WGT',\n",
       " 'NIFTY100 EQL WGT',\n",
       " 'NIFTY100 LOWVOL30',\n",
       " 'NIFTY MID LIQ 15',\n",
       " 'NIFTY PVT BANK',\n",
       " 'NIFTY100 QUALTY30',\n",
       " 'NIFTY GS 8 13YR',\n",
       " 'NIFTY GS 10YR',\n",
       " 'NIFTY GS 10YR CLN',\n",
       " 'NIFTY GS 4 8YR',\n",
       " 'NIFTY GS 11 15YR',\n",
       " 'NIFTY GS 15YRPLUS',\n",
       " 'NIFTY GS COMPSITE',\n",
       " 'NIFTY MIDCAP 150',\n",
       " 'NIFTY SMLCAP 50',\n",
       " 'NIFTY SMLCAP 250',\n",
       " 'NIFTY MIDSML 400',\n",
       " 'NIFTY200 QUALTY30']"
      ]
     },
     "execution_count": 9,
     "metadata": {},
     "output_type": "execute_result"
    }
   ],
   "source": [
    "from nsetools import Nse\n",
    "nse = Nse()\n",
    "nse.get_index_list()"
   ]
  },
  {
   "cell_type": "code",
   "execution_count": 35,
   "metadata": {},
   "outputs": [
    {
     "name": "stdout",
     "output_type": "stream",
     "text": [
      "NIFTY IT\n",
      "done :)\n",
      "NIFTY BANK\n",
      "done :)\n",
      "NIFTY AUTO\n",
      "done :)\n",
      "NIFTY FMCG\n",
      "done :)\n",
      "NIFTY PHARMA\n",
      "done :)\n",
      "NIFTY FIN SERVICE\n",
      "done :)\n"
     ]
    }
   ],
   "source": [
    "start_date = datetime.date(2013,1,1)\n",
    "end_date = datetime.date.today()\n",
    "nse_tickers = ['NIFTY IT','NIFTY BANK','NIFTY AUTO','NIFTY FMCG','NIFTY PHARMA','NIFTY FIN SERVICE']\n",
    "closing_prices, returns = brat.get_returns_from_close_as_dataframe(nse_tickers,start_date,end_date, index=True)"
   ]
  },
  {
   "cell_type": "code",
   "execution_count": 36,
   "metadata": {},
   "outputs": [
    {
     "data": {
      "text/html": [
       "<div>\n",
       "<style scoped>\n",
       "    .dataframe tbody tr th:only-of-type {\n",
       "        vertical-align: middle;\n",
       "    }\n",
       "\n",
       "    .dataframe tbody tr th {\n",
       "        vertical-align: top;\n",
       "    }\n",
       "\n",
       "    .dataframe thead th {\n",
       "        text-align: right;\n",
       "    }\n",
       "</style>\n",
       "<table border=\"1\" class=\"dataframe\">\n",
       "  <thead>\n",
       "    <tr style=\"text-align: right;\">\n",
       "      <th></th>\n",
       "      <th>IT</th>\n",
       "      <th>BANK</th>\n",
       "      <th>AUTO</th>\n",
       "      <th>FMCG</th>\n",
       "      <th>PHARMA</th>\n",
       "      <th>FINSERV</th>\n",
       "    </tr>\n",
       "  </thead>\n",
       "  <tbody>\n",
       "    <tr>\n",
       "      <td>2013-01-02</td>\n",
       "      <td>-0.000381</td>\n",
       "      <td>0.010487</td>\n",
       "      <td>0.008584</td>\n",
       "      <td>-0.002212</td>\n",
       "      <td>0.002254</td>\n",
       "      <td>0.012106</td>\n",
       "    </tr>\n",
       "    <tr>\n",
       "      <td>2013-01-03</td>\n",
       "      <td>0.011043</td>\n",
       "      <td>-0.000680</td>\n",
       "      <td>-0.001211</td>\n",
       "      <td>-0.003494</td>\n",
       "      <td>0.000914</td>\n",
       "      <td>0.000258</td>\n",
       "    </tr>\n",
       "    <tr>\n",
       "      <td>2013-01-04</td>\n",
       "      <td>0.009118</td>\n",
       "      <td>0.000720</td>\n",
       "      <td>-0.002538</td>\n",
       "      <td>-0.002498</td>\n",
       "      <td>0.000757</td>\n",
       "      <td>-0.000258</td>\n",
       "    </tr>\n",
       "    <tr>\n",
       "      <td>2013-01-07</td>\n",
       "      <td>0.003616</td>\n",
       "      <td>-0.006151</td>\n",
       "      <td>0.004149</td>\n",
       "      <td>-0.011064</td>\n",
       "      <td>0.003955</td>\n",
       "      <td>-0.009413</td>\n",
       "    </tr>\n",
       "    <tr>\n",
       "      <td>2013-01-08</td>\n",
       "      <td>-0.004461</td>\n",
       "      <td>0.001322</td>\n",
       "      <td>0.000427</td>\n",
       "      <td>0.012140</td>\n",
       "      <td>0.008535</td>\n",
       "      <td>0.004539</td>\n",
       "    </tr>\n",
       "  </tbody>\n",
       "</table>\n",
       "</div>"
      ],
      "text/plain": [
       "                  IT      BANK      AUTO      FMCG    PHARMA   FINSERV\n",
       "2013-01-02 -0.000381  0.010487  0.008584 -0.002212  0.002254  0.012106\n",
       "2013-01-03  0.011043 -0.000680 -0.001211 -0.003494  0.000914  0.000258\n",
       "2013-01-04  0.009118  0.000720 -0.002538 -0.002498  0.000757 -0.000258\n",
       "2013-01-07  0.003616 -0.006151  0.004149 -0.011064  0.003955 -0.009413\n",
       "2013-01-08 -0.004461  0.001322  0.000427  0.012140  0.008535  0.004539"
      ]
     },
     "execution_count": 36,
     "metadata": {},
     "output_type": "execute_result"
    }
   ],
   "source": [
    "factors_d = pd.concat(returns, axis=1)\n",
    "factors_d.columns = factors_d.columns.droplevel(-1)\n",
    "factors_d.columns = ['IT','BANK','AUTO','FMCG','PHARMA','FINSERV']\n",
    "factors_d.head()"
   ]
  },
  {
   "cell_type": "code",
   "execution_count": 37,
   "metadata": {
    "scrolled": true
   },
   "outputs": [
    {
     "data": {
      "text/html": [
       "<div>\n",
       "<style scoped>\n",
       "    .dataframe tbody tr th:only-of-type {\n",
       "        vertical-align: middle;\n",
       "    }\n",
       "\n",
       "    .dataframe tbody tr th {\n",
       "        vertical-align: top;\n",
       "    }\n",
       "\n",
       "    .dataframe thead th {\n",
       "        text-align: right;\n",
       "    }\n",
       "</style>\n",
       "<table border=\"1\" class=\"dataframe\">\n",
       "  <thead>\n",
       "    <tr style=\"text-align: right;\">\n",
       "      <th></th>\n",
       "      <th>IT</th>\n",
       "      <th>BANK</th>\n",
       "      <th>AUTO</th>\n",
       "      <th>FMCG</th>\n",
       "      <th>PHARMA</th>\n",
       "      <th>FINSERV</th>\n",
       "    </tr>\n",
       "  </thead>\n",
       "  <tbody>\n",
       "    <tr>\n",
       "      <td>2013-01</td>\n",
       "      <td>0.123432</td>\n",
       "      <td>0.004303</td>\n",
       "      <td>-0.045097</td>\n",
       "      <td>0.000403</td>\n",
       "      <td>-0.020036</td>\n",
       "      <td>-0.012000</td>\n",
       "    </tr>\n",
       "    <tr>\n",
       "      <td>2013-02</td>\n",
       "      <td>0.048488</td>\n",
       "      <td>-0.096096</td>\n",
       "      <td>-0.048410</td>\n",
       "      <td>-0.043962</td>\n",
       "      <td>-0.026461</td>\n",
       "      <td>-0.083613</td>\n",
       "    </tr>\n",
       "    <tr>\n",
       "      <td>2013-03</td>\n",
       "      <td>0.015816</td>\n",
       "      <td>-0.010925</td>\n",
       "      <td>-0.045245</td>\n",
       "      <td>0.049859</td>\n",
       "      <td>0.030252</td>\n",
       "      <td>0.010010</td>\n",
       "    </tr>\n",
       "    <tr>\n",
       "      <td>2013-04</td>\n",
       "      <td>-0.162258</td>\n",
       "      <td>0.105590</td>\n",
       "      <td>0.096542</td>\n",
       "      <td>0.097511</td>\n",
       "      <td>0.100311</td>\n",
       "      <td>0.082720</td>\n",
       "    </tr>\n",
       "    <tr>\n",
       "      <td>2013-05</td>\n",
       "      <td>0.070167</td>\n",
       "      <td>-0.006838</td>\n",
       "      <td>0.029488</td>\n",
       "      <td>0.041217</td>\n",
       "      <td>0.027343</td>\n",
       "      <td>0.006626</td>\n",
       "    </tr>\n",
       "  </tbody>\n",
       "</table>\n",
       "</div>"
      ],
      "text/plain": [
       "               IT      BANK      AUTO      FMCG    PHARMA   FINSERV\n",
       "2013-01  0.123432  0.004303 -0.045097  0.000403 -0.020036 -0.012000\n",
       "2013-02  0.048488 -0.096096 -0.048410 -0.043962 -0.026461 -0.083613\n",
       "2013-03  0.015816 -0.010925 -0.045245  0.049859  0.030252  0.010010\n",
       "2013-04 -0.162258  0.105590  0.096542  0.097511  0.100311  0.082720\n",
       "2013-05  0.070167 -0.006838  0.029488  0.041217  0.027343  0.006626"
      ]
     },
     "execution_count": 37,
     "metadata": {},
     "output_type": "execute_result"
    }
   ],
   "source": [
    "factors_m = factors_d.resample('M').apply(brat.compound).to_period('M')\n",
    "factors_m.head()"
   ]
  },
  {
   "cell_type": "code",
   "execution_count": 38,
   "metadata": {},
   "outputs": [],
   "source": [
    "def style_analysis(dependent_variable, explanatory_variables):\n",
    "    \"\"\"\n",
    "    Returns the optimal weights that minimizes the Tracking error between\n",
    "    a portfolio of the explanatory variables and the dependent variable\n",
    "    \"\"\"\n",
    "    n = explanatory_variables.shape[1]\n",
    "    init_guess = np.repeat(1/n, n)\n",
    "    bounds = ((0.0, 1.0),) * n # an N-tuple of 2-tuples!\n",
    "    # construct the constraints\n",
    "    weights_sum_to_1 = {'type': 'eq',\n",
    "                        'fun': lambda weights: np.sum(weights) - 1\n",
    "    }\n",
    "    solution = minimize(portfolio_tracking_error, init_guess,\n",
    "                       args=(dependent_variable, explanatory_variables,), method='SLSQP',\n",
    "                       options={'disp': False},\n",
    "                       constraints=(weights_sum_to_1,),\n",
    "                       bounds=bounds)\n",
    "    weights = pd.Series(solution.x, index=explanatory_variables.columns)\n",
    "    return weights"
   ]
  },
  {
   "cell_type": "code",
   "execution_count": 39,
   "metadata": {},
   "outputs": [],
   "source": [
    "def portfolio_tracking_error(weights, ref_r, bb_r):\n",
    "    \"\"\"\n",
    "    returns the tracking error between the reference returns\n",
    "    and a portfolio of building block returns held with given weights\n",
    "    \"\"\"\n",
    "    return tracking_error(ref_r, (weights*bb_r).sum(axis=1))"
   ]
  },
  {
   "cell_type": "code",
   "execution_count": 40,
   "metadata": {},
   "outputs": [],
   "source": [
    "def tracking_error(r_a, r_b):\n",
    "    \"\"\"\n",
    "    Returns the Tracking Error between the two return series\n",
    "    \"\"\"\n",
    "    return np.sqrt(((r_a - r_b)**2).sum())"
   ]
  },
  {
   "cell_type": "code",
   "execution_count": 43,
   "metadata": {},
   "outputs": [
    {
     "data": {
      "text/plain": [
       "IT         9.280216e+00\n",
       "BANK       5.702903e-15\n",
       "AUTO       1.634472e+01\n",
       "FMCG       2.107067e+01\n",
       "PHARMA     1.168461e+01\n",
       "FINSERV    4.161978e+01\n",
       "dtype: float64"
      ]
     },
     "execution_count": 43,
     "metadata": {},
     "output_type": "execute_result"
    }
   ],
   "source": [
    "weights = brat.style_analysis(axis_rets_m['Returns'], factors_m)*100\n",
    "weights"
   ]
  },
  {
   "cell_type": "code",
   "execution_count": 45,
   "metadata": {},
   "outputs": [
    {
     "data": {
      "text/plain": [
       "<matplotlib.axes._subplots.AxesSubplot at 0x23cbfd4dd88>"
      ]
     },
     "execution_count": 45,
     "metadata": {},
     "output_type": "execute_result"
    },
    {
     "data": {
      "image/png": "[encoded data removed]",
      "text/plain": [
       "<Figure size 432x288 with 1 Axes>"
      ]
     },
     "metadata": {
      "needs_background": "light"
     },
     "output_type": "display_data"
    }
   ],
   "source": [
    "weights.plot.bar()"
   ]
  },
  {
   "cell_type": "markdown",
   "metadata": {},
   "source": [
    "Even though the allocation percentages don't match, the relative contributions from sectors do roughly align with the actual sector wise allocation for the Mutual Fund as seen on Moneycontrol.com\n",
    "\n",
    "In reality the sector wise allocation is: BANK > FINSERV > AUTO > IT > PHARMA > FMCG\n",
    "\n",
    "As per the analysis the sector wise allocation is: FINSERV > FMCG > AUTO > IT > PHARMA > BANK"
   ]
  },
  {
   "cell_type": "markdown",
   "metadata": {},
   "source": [
    "The one major suprising result is that the BANK NIFTY contribution is nearly zero but the allocation to Financial Services is very high. In reality the allocation to Banks is 14.27% and FinServ is 11.46%, for a total of ~25% makes it appear as if the BANK NIFTY allocation is also being included in FINSERV. "
   ]
  }
 ],
 "metadata": {
  "kernelspec": {
   "display_name": "Python 3",
   "language": "python",
   "name": "python3"
  },
  "language_info": {
   "codemirror_mode": {
    "name": "ipython",
    "version": 3
   },
   "file_extension": ".py",
   "mimetype": "text/x-python",
   "name": "python",
   "nbconvert_exporter": "python",
   "pygments_lexer": "ipython3",
   "version": "3.7.4"
  }
 },
 "nbformat": 4,
 "nbformat_minor": 2
}
