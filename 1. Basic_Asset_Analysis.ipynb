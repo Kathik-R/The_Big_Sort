{
 "cells": [
  {
   "cell_type": "code",
   "execution_count": 4,
   "metadata": {},
   "outputs": [],
   "source": [
    "import pandas as pd\n",
    "import numpy as np\n",
    "from nsepy import get_history\n",
    "import datetime\n",
    "import matplotlib\n",
    "%matplotlib inline"
   ]
  },
  {
   "cell_type": "code",
   "execution_count": 5,
   "metadata": {},
   "outputs": [],
   "source": [
    "from scipy import stats"
   ]
  },
  {
   "cell_type": "code",
   "execution_count": 6,
   "metadata": {},
   "outputs": [],
   "source": [
    "%load_ext autoreload\n",
    "%autoreload 2"
   ]
  },
  {
   "cell_type": "markdown",
   "metadata": {},
   "source": [
    "# Fetching Daily Returns"
   ]
  },
  {
   "cell_type": "code",
   "execution_count": 1,
   "metadata": {},
   "outputs": [],
   "source": [
    "def get_returns_from_close_as_dataframe(nse_tickers, start_date, end_date):\n",
    "    \"\"\"\n",
    "    Input: list of tickers for which nse data is needed, start date and end date of period.\n",
    "    Output: two dictionaries with tickers as keys and daily closing prices and daily returns as dataframes\n",
    "    \"\"\"\n",
    "    closing_prices = {}\n",
    "    returns = {}\n",
    "    for ticker in nse_tickers:\n",
    "        print(ticker)\n",
    "        data = get_history(symbol=ticker, start=start_date, end=end_date)\n",
    "        print('done :)')\n",
    "        closing_prices_df = pd.DataFrame(index=pd.to_datetime(list(data.index), format=\"%Y-%m-%d\"))\n",
    "        returns_df = pd.DataFrame(index=pd.to_datetime(list(data.index), format=\"%Y-%m-%d\"))\n",
    "        closing_prices_df[ticker] = data['Close'].to_list()\n",
    "        returns_df = closing_prices_df.pct_change().drop(list(closing_prices_df.index)[0])\n",
    "        closing_prices[ticker], returns[ticker] = closing_prices_df, returns_df\n",
    "    return closing_prices, returns"
   ]
  },
  {
   "cell_type": "code",
   "execution_count": null,
   "metadata": {},
   "outputs": [],
   "source": [
    "## Fetching Daily Returns from NSE and saving as a dictionary of dataframes \n",
    "start_date = datetime.date(2009,1,1)\n",
    "end_date = datetime.date.today()\n",
    "nse_tickers = [\"AVANTIFEED\",\"BAJAJFINSV\",\"BAJAJHLDNG\",\"BAJFINANCE\"]\n",
    "closing_prices, returns = get_returns_from_close_as_dataframe(nse_tickers,start_date,end_date)"
   ]
  },
  {
   "cell_type": "markdown",
   "metadata": {},
   "source": [
    "# Annualized Returns, Volatility, Return to Risk Ratio and Sharpe Ratio"
   ]
  },
  {
   "cell_type": "code",
   "execution_count": 47,
   "metadata": {},
   "outputs": [],
   "source": [
    "def get_AnnVol_AnnRet_Ret2Risk_Sharpe(returns, annualizing_factor=260, risk_free_return=0.0581):\n",
    "    \"\"\"\n",
    "    Input: a dataframe of returns, the annualizing factor depending on the frequency of returns, risk free return\n",
    "    Output: annualised_vol, annualized_return, return_2_risk ratio, sharpe_ratio\n",
    "    \"\"\"\n",
    "    stats_df = pd.DataFrame()\n",
    "    for returns_df in returns.values():\n",
    "        annualised_vol = returns_df.std()*np.sqrt(annualizing_factor)\n",
    "        annualized_return = (returns_df+1).prod()**(annualizing_factor/returns_df.shape[0]) -1\n",
    "        return_2_risk = annualized_return/annualised_vol\n",
    "        sharpe_ratio = (annualized_return - risk_free_return)/annualised_vol\n",
    "        stats_df = pd.concat([stats_df,pd.concat([annualised_vol, annualized_return, return_2_risk, sharpe_ratio], axis=\"columns\")], axis=0)\n",
    "    stats_df.columns = ['Annualized Volatility','Annualized Returns','Return to Risk Ratio','Sharpe Ratio']\n",
    "    return stats_df"
   ]
  },
  {
   "cell_type": "code",
   "execution_count": 48,
   "metadata": {},
   "outputs": [
    {
     "data": {
      "text/html": [
       "<div>\n",
       "<style scoped>\n",
       "    .dataframe tbody tr th:only-of-type {\n",
       "        vertical-align: middle;\n",
       "    }\n",
       "\n",
       "    .dataframe tbody tr th {\n",
       "        vertical-align: top;\n",
       "    }\n",
       "\n",
       "    .dataframe thead th {\n",
       "        text-align: right;\n",
       "    }\n",
       "</style>\n",
       "<table border=\"1\" class=\"dataframe\">\n",
       "  <thead>\n",
       "    <tr style=\"text-align: right;\">\n",
       "      <th></th>\n",
       "      <th>Annualized Volatility</th>\n",
       "      <th>Annualized Returns</th>\n",
       "      <th>Return to Risk Ratio</th>\n",
       "      <th>Sharpe Ratio</th>\n",
       "    </tr>\n",
       "  </thead>\n",
       "  <tbody>\n",
       "    <tr>\n",
       "      <td>AVANTIFEED</td>\n",
       "      <td>0.693264</td>\n",
       "      <td>-0.239864</td>\n",
       "      <td>-0.345992</td>\n",
       "      <td>-0.429798</td>\n",
       "    </tr>\n",
       "    <tr>\n",
       "      <td>BAJAJFINSV</td>\n",
       "      <td>0.376065</td>\n",
       "      <td>0.385105</td>\n",
       "      <td>1.024038</td>\n",
       "      <td>0.869543</td>\n",
       "    </tr>\n",
       "    <tr>\n",
       "      <td>BAJAJHLDNG</td>\n",
       "      <td>0.316600</td>\n",
       "      <td>0.236275</td>\n",
       "      <td>0.746289</td>\n",
       "      <td>0.562777</td>\n",
       "    </tr>\n",
       "    <tr>\n",
       "      <td>BAJFINANCE</td>\n",
       "      <td>0.494849</td>\n",
       "      <td>0.395548</td>\n",
       "      <td>0.799329</td>\n",
       "      <td>0.681920</td>\n",
       "    </tr>\n",
       "  </tbody>\n",
       "</table>\n",
       "</div>"
      ],
      "text/plain": [
       "            Annualized Volatility  Annualized Returns  Return to Risk Ratio  \\\n",
       "AVANTIFEED               0.693264           -0.239864             -0.345992   \n",
       "BAJAJFINSV               0.376065            0.385105              1.024038   \n",
       "BAJAJHLDNG               0.316600            0.236275              0.746289   \n",
       "BAJFINANCE               0.494849            0.395548              0.799329   \n",
       "\n",
       "            Sharpe Ratio  \n",
       "AVANTIFEED     -0.429798  \n",
       "BAJAJFINSV      0.869543  \n",
       "BAJAJHLDNG      0.562777  \n",
       "BAJFINANCE      0.681920  "
      ]
     },
     "execution_count": 48,
     "metadata": {},
     "output_type": "execute_result"
    }
   ],
   "source": [
    "get_AnnVol_AnnRet_Ret2Risk_Sharpe(returns, 260)"
   ]
  },
  {
   "cell_type": "markdown",
   "metadata": {},
   "source": [
    "# Maximum Drawdown"
   ]
  },
  {
   "cell_type": "code",
   "execution_count": 70,
   "metadata": {},
   "outputs": [],
   "source": [
    "def get_Drawdown(returns):\n",
    "    \"\"\"\n",
    "    Takes a time series of asset returns.\n",
    "    returns a DataFrame with columns for the wealth index, \n",
    "    the previous peaks, and the percentage drawdown\n",
    "    \"\"\"\n",
    "    drawdowns = pd.DataFrame(index=list(returns.keys()))\n",
    "    drawdown_value = []\n",
    "    drawdown_date = []\n",
    "    for returns_df in returns.values():\n",
    "        max_drawdown_df = pd.DataFrame(index=list(returns_df.index))\n",
    "        max_drawdown_df['Wealth Index'] = 1000*(1+returns_df).cumprod()\n",
    "        max_drawdown_df['Previous Peaks'] = max_drawdown_df['Wealth Index'].cummax()\n",
    "        max_drawdown_df['Max Drawdown'] = (max_drawdown_df['Wealth Index'] - max_drawdown_df['Previous Peaks'])/max_drawdown_df['Previous Peaks']\n",
    "        drawdown_value.append(max_drawdown_df['Max Drawdown'].min()*100)\n",
    "        drawdown_date.append(max_drawdown_df['Max Drawdown'].idxmin())\n",
    "    drawdowns['Max Drawdown in %'], drawdowns['Max Drawdown Date'] = [drawdown_value, drawdown_date]\n",
    "    return drawdowns"
   ]
  },
  {
   "cell_type": "code",
   "execution_count": 67,
   "metadata": {
    "scrolled": false
   },
   "outputs": [
    {
     "data": {
      "text/html": [
       "<div>\n",
       "<style scoped>\n",
       "    .dataframe tbody tr th:only-of-type {\n",
       "        vertical-align: middle;\n",
       "    }\n",
       "\n",
       "    .dataframe tbody tr th {\n",
       "        vertical-align: top;\n",
       "    }\n",
       "\n",
       "    .dataframe thead th {\n",
       "        text-align: right;\n",
       "    }\n",
       "</style>\n",
       "<table border=\"1\" class=\"dataframe\">\n",
       "  <thead>\n",
       "    <tr style=\"text-align: right;\">\n",
       "      <th></th>\n",
       "      <th>Drawdown in %</th>\n",
       "      <th>Drawdown Date</th>\n",
       "    </tr>\n",
       "  </thead>\n",
       "  <tbody>\n",
       "    <tr>\n",
       "      <td>AVANTIFEED</td>\n",
       "      <td>-92.176570</td>\n",
       "      <td>2020-03-23</td>\n",
       "    </tr>\n",
       "    <tr>\n",
       "      <td>BAJAJFINSV</td>\n",
       "      <td>-58.589585</td>\n",
       "      <td>2020-05-26</td>\n",
       "    </tr>\n",
       "    <tr>\n",
       "      <td>BAJAJHLDNG</td>\n",
       "      <td>-60.922175</td>\n",
       "      <td>2020-03-24</td>\n",
       "    </tr>\n",
       "    <tr>\n",
       "      <td>BAJFINANCE</td>\n",
       "      <td>-93.282017</td>\n",
       "      <td>2016-12-22</td>\n",
       "    </tr>\n",
       "  </tbody>\n",
       "</table>\n",
       "</div>"
      ],
      "text/plain": [
       "            Drawdown in % Drawdown Date\n",
       "AVANTIFEED     -92.176570    2020-03-23\n",
       "BAJAJFINSV     -58.589585    2020-05-26\n",
       "BAJAJHLDNG     -60.922175    2020-03-24\n",
       "BAJFINANCE     -93.282017    2016-12-22"
      ]
     },
     "execution_count": 67,
     "metadata": {},
     "output_type": "execute_result"
    }
   ],
   "source": [
    "get_Drawdown(returns)"
   ]
  },
  {
   "cell_type": "markdown",
   "metadata": {},
   "source": [
    "# Skewness, Kurtosis and Deviation from Normal Distribution"
   ]
  },
  {
   "cell_type": "code",
   "execution_count": 23,
   "metadata": {},
   "outputs": [],
   "source": [
    "def get_skewness_kurtosis_isnormallydist(returns, level=0.01):\n",
    "    \"\"\"\n",
    "    INPUT: \n",
    "    The dictionary with all the returns \n",
    "    Required level of confidence that the returns are normally distributed (by default 0.01 or 1%)\n",
    "    \n",
    "    OUTPUT:\n",
    "    Dataframe with 'Returns Mean','Returns Median','Skewed?',\n",
    "    'Skewness','Excess Kurtosis','Normal as per Jarque?' \n",
    "    for each company.\n",
    "    \n",
    "    NOTES: \n",
    "    A distribution is negatively skewed if the median return (most probable) is less than the average return.\n",
    "    This is because in normal distribution the mean is equal to the median.\n",
    "    KURTOSIS FOR NORMALLY DISTRIBUTED RETURNS IS 3. Excess Kurtosis is the observed kurtosis minus 3.\n",
    "    \n",
    "    Applies the Jarque-Bera test to determine if a Returns are \n",
    "    normal or not Test is applied at the 1% level by default\n",
    "    Returns True if the hypothesis of normality is accepted, False otherwise\n",
    "    \"\"\"\n",
    "    skewness_df = pd.DataFrame()\n",
    "    jarque_test = []\n",
    "    for returns_df in returns.values():\n",
    "        demeaned_ret = returns_df-returns_df.mean()\n",
    "        stdev = returns_df.std(ddof=0)      ##Delta Degrees of Freedom. The divisor used in calculations is N - ddof, where N represents the number of elements.\n",
    "        skewness = ((demeaned_ret**3).mean())/(stdev**3)\n",
    "        kurtosis = ((demeaned_ret**4).mean())/(stdev**4) -3\n",
    "        jarque_test.append(stats.jarque_bera(returns_df)[1]>level)\n",
    "        skewness_df = pd.concat([skewness_df,pd.concat([returns_df.mean(), returns_df.median(), returns_df.mean()>returns_df.median(),skewness,kurtosis], axis=\"columns\")],axis=0)\n",
    "    skewness_df.columns = ['Returns Mean','Returns Median','Negatively Skewed?','Skewness','Excess Kurtosis']\n",
    "    skewness_df['Normal as per Jarque?'] = jarque_test\n",
    "    return skewness_df"
   ]
  },
  {
   "cell_type": "code",
   "execution_count": 24,
   "metadata": {},
   "outputs": [
    {
     "data": {
      "text/html": [
       "<div>\n",
       "<style scoped>\n",
       "    .dataframe tbody tr th:only-of-type {\n",
       "        vertical-align: middle;\n",
       "    }\n",
       "\n",
       "    .dataframe tbody tr th {\n",
       "        vertical-align: top;\n",
       "    }\n",
       "\n",
       "    .dataframe thead th {\n",
       "        text-align: right;\n",
       "    }\n",
       "</style>\n",
       "<table border=\"1\" class=\"dataframe\">\n",
       "  <thead>\n",
       "    <tr style=\"text-align: right;\">\n",
       "      <th></th>\n",
       "      <th>Returns Mean</th>\n",
       "      <th>Returns Median</th>\n",
       "      <th>Negatively Skewed?</th>\n",
       "      <th>Skewness</th>\n",
       "      <th>Excess Kurtosis</th>\n",
       "      <th>Normal as per Jarque?</th>\n",
       "    </tr>\n",
       "  </thead>\n",
       "  <tbody>\n",
       "    <tr>\n",
       "      <td>AVANTIFEED</td>\n",
       "      <td>0.000369</td>\n",
       "      <td>-0.001186</td>\n",
       "      <td>True</td>\n",
       "      <td>-7.019527</td>\n",
       "      <td>128.512441</td>\n",
       "      <td>False</td>\n",
       "    </tr>\n",
       "    <tr>\n",
       "      <td>BAJAJFINSV</td>\n",
       "      <td>0.001526</td>\n",
       "      <td>0.000187</td>\n",
       "      <td>True</td>\n",
       "      <td>0.140768</td>\n",
       "      <td>10.260906</td>\n",
       "      <td>False</td>\n",
       "    </tr>\n",
       "    <tr>\n",
       "      <td>BAJAJHLDNG</td>\n",
       "      <td>0.001009</td>\n",
       "      <td>0.000080</td>\n",
       "      <td>True</td>\n",
       "      <td>0.202100</td>\n",
       "      <td>12.637404</td>\n",
       "      <td>False</td>\n",
       "    </tr>\n",
       "    <tr>\n",
       "      <td>BAJFINANCE</td>\n",
       "      <td>0.002097</td>\n",
       "      <td>0.000891</td>\n",
       "      <td>True</td>\n",
       "      <td>-8.468806</td>\n",
       "      <td>264.814673</td>\n",
       "      <td>False</td>\n",
       "    </tr>\n",
       "  </tbody>\n",
       "</table>\n",
       "</div>"
      ],
      "text/plain": [
       "            Returns Mean  Returns Median  Negatively Skewed?  Skewness  \\\n",
       "AVANTIFEED      0.000369       -0.001186                True -7.019527   \n",
       "BAJAJFINSV      0.001526        0.000187                True  0.140768   \n",
       "BAJAJHLDNG      0.001009        0.000080                True  0.202100   \n",
       "BAJFINANCE      0.002097        0.000891                True -8.468806   \n",
       "\n",
       "            Excess Kurtosis  Normal as per Jarque?  \n",
       "AVANTIFEED       128.512441                  False  \n",
       "BAJAJFINSV        10.260906                  False  \n",
       "BAJAJHLDNG        12.637404                  False  \n",
       "BAJFINANCE       264.814673                  False  "
      ]
     },
     "execution_count": 24,
     "metadata": {},
     "output_type": "execute_result"
    }
   ],
   "source": [
    "get_skewness_kurtosis_isnormallydist(returns)"
   ]
  },
  {
   "cell_type": "markdown",
   "metadata": {},
   "source": [
    "# Semi-Deviation, VaR and Conditional VaR"
   ]
  },
  {
   "cell_type": "code",
   "execution_count": 40,
   "metadata": {},
   "outputs": [],
   "source": [
    "def get_semideviation_var_cvar(returns, worst_percent=5):\n",
    "    \"\"\"\n",
    "    INPUT:\n",
    "    the dictionary with returns\n",
    "    WORST_PERCENT is the percent of most negative returns used to get VaRs\n",
    "    i.e. returns the number such that that percent of the returns\n",
    "    fall below the VAR number, and the (100-level) percent are above\n",
    "    \n",
    "    OUTPUT:\n",
    "    dataframe with the semideviation, Historical VaR, Gaussian VaR and CVaR for each return series.\n",
    "    \n",
    "    NOTE:\n",
    "    Semideviation is the std dev of negative returns\n",
    "    r must be a Series or a DataFrame, else raises a TypeError\n",
    "    \"\"\"\n",
    "    semid_var_cvar_df = pd.DataFrame()\n",
    "    hist_var = []\n",
    "    for returns_df in returns.values():\n",
    "        semidev = returns_df[returns_df<0].std(ddof=0)\n",
    "        hist_var.append(np.percentile(returns_df, worst_percent)*-1)\n",
    "        z = stats.norm.ppf(worst_percent/100)\n",
    "        gaus_var = (returns_df.mean() + z*returns_df.std(ddof=0))*-1\n",
    "\n",
    "        ## calculate skewness, kurtosis and Cornish-Fisher VAR\n",
    "        demeaned_ret = returns_df-returns_df.mean()\n",
    "        stdev = returns_df.std(ddof=0)      ##Delta Degrees of Freedom. The divisor used in calculations is N - ddof, where N represents the number of elements.\n",
    "        skewness = ((demeaned_ret**3).mean())/(stdev**3)\n",
    "        kurtosis = ((demeaned_ret**4).mean())/(stdev**4)\n",
    "        cf_z = (z + (z**2 - 1)*skewness/6 +(z**3 -3*z)*(kurtosis-3)/24 -(2*z**3 - 5*z)*(skewness**2)/36)\n",
    "        cf_var = -(returns_df.mean() + cf_z*stdev)\n",
    "        \n",
    "        #Calculate BeyondVaR or CVaR\n",
    "        returns_beyond = returns_df <= (np.percentile(returns_df, 5))\n",
    "        cvar = -(returns_df[returns_beyond].mean())\n",
    "        \n",
    "        semid_var_cvar_df = pd.concat([semid_var_cvar_df,pd.concat([semidev, gaus_var, cf_var, cvar], axis=\"columns\")],axis=0)\n",
    "    semid_var_cvar_df.columns = ['Semi-Deviation', 'Gaussian VaR', 'Cornish-Fisher VaR','Conditional VaR']\n",
    "    semid_var_cvar_df['Historical VaR'] = hist_var\n",
    "    return semid_var_cvar_df"
   ]
  },
  {
   "cell_type": "code",
   "execution_count": 41,
   "metadata": {},
   "outputs": [
    {
     "data": {
      "text/html": [
       "<div>\n",
       "<style scoped>\n",
       "    .dataframe tbody tr th:only-of-type {\n",
       "        vertical-align: middle;\n",
       "    }\n",
       "\n",
       "    .dataframe tbody tr th {\n",
       "        vertical-align: top;\n",
       "    }\n",
       "\n",
       "    .dataframe thead th {\n",
       "        text-align: right;\n",
       "    }\n",
       "</style>\n",
       "<table border=\"1\" class=\"dataframe\">\n",
       "  <thead>\n",
       "    <tr style=\"text-align: right;\">\n",
       "      <th></th>\n",
       "      <th>Semi-Deviation</th>\n",
       "      <th>Gaussian VaR</th>\n",
       "      <th>Cornish-Fisher VaR</th>\n",
       "      <th>Conditional VaR</th>\n",
       "      <th>Historical VaR</th>\n",
       "    </tr>\n",
       "  </thead>\n",
       "  <tbody>\n",
       "    <tr>\n",
       "      <td>AVANTIFEED</td>\n",
       "      <td>0.042588</td>\n",
       "      <td>0.070323</td>\n",
       "      <td>0.004841</td>\n",
       "      <td>0.085836</td>\n",
       "      <td>0.043719</td>\n",
       "    </tr>\n",
       "    <tr>\n",
       "      <td>BAJAJFINSV</td>\n",
       "      <td>0.015653</td>\n",
       "      <td>0.036830</td>\n",
       "      <td>0.031059</td>\n",
       "      <td>0.048798</td>\n",
       "      <td>0.031706</td>\n",
       "    </tr>\n",
       "    <tr>\n",
       "      <td>BAJAJHLDNG</td>\n",
       "      <td>0.014044</td>\n",
       "      <td>0.031282</td>\n",
       "      <td>0.025132</td>\n",
       "      <td>0.042701</td>\n",
       "      <td>0.026156</td>\n",
       "    </tr>\n",
       "    <tr>\n",
       "      <td>BAJFINANCE</td>\n",
       "      <td>0.029288</td>\n",
       "      <td>0.048373</td>\n",
       "      <td>-0.083075</td>\n",
       "      <td>0.058301</td>\n",
       "      <td>0.033738</td>\n",
       "    </tr>\n",
       "  </tbody>\n",
       "</table>\n",
       "</div>"
      ],
      "text/plain": [
       "            Semi-Deviation  Gaussian VaR  Cornish-Fisher VaR  Conditional VaR  \\\n",
       "AVANTIFEED        0.042588      0.070323            0.004841         0.085836   \n",
       "BAJAJFINSV        0.015653      0.036830            0.031059         0.048798   \n",
       "BAJAJHLDNG        0.014044      0.031282            0.025132         0.042701   \n",
       "BAJFINANCE        0.029288      0.048373           -0.083075         0.058301   \n",
       "\n",
       "            Historical VaR  \n",
       "AVANTIFEED        0.043719  \n",
       "BAJAJFINSV        0.031706  \n",
       "BAJAJHLDNG        0.026156  \n",
       "BAJFINANCE        0.033738  "
      ]
     },
     "execution_count": 41,
     "metadata": {},
     "output_type": "execute_result"
    }
   ],
   "source": [
    "get_semideviation_var_cvar(returns, worst_percent=5)"
   ]
  },
  {
   "cell_type": "markdown",
   "metadata": {},
   "source": [
    "# Covariance Matrix"
   ]
  },
  {
   "cell_type": "code",
   "execution_count": 1,
   "metadata": {},
   "outputs": [],
   "source": [
    "def get_covariance_matrix(returns):\n",
    "    combined_df = pd.DataFrame(index=list(returns.values())[0].index)\n",
    "    for df in returns.values():\n",
    "         combined_df = pd.concat([combined_df.loc[~combined_df.index.duplicated(keep='first')],df.loc[~df.index.duplicated(keep='first')]], join='inner', axis=1, sort=False)\n",
    "    return combined_df.cov()"
   ]
  },
  {
   "cell_type": "markdown",
   "metadata": {},
   "source": [
    "# Timeseries length comparison"
   ]
  },
  {
   "cell_type": "code",
   "execution_count": 2,
   "metadata": {
    "scrolled": true
   },
   "outputs": [],
   "source": [
    "def compare_timeseries_lengths(returns):\n",
    "    start = []\n",
    "    end = []\n",
    "    length = []\n",
    "    for df in returns.values():\n",
    "        start.append(list(df.index)[0])\n",
    "        end.append(list(df.index)[-1])\n",
    "        length.append(len(list(df.index)))\n",
    "    dates = pd.DataFrame({'Start Date':start,'End Date':end, 'Length': length}, index=[\"BAJAJFINSV\",\"BAJAJHLDNG\",\"BAJFINANCE\",\"BATAINDIA\",\"BERGEPAINT\",\"BRITANNIA\",\"EICHERMOT\",\"HDFCBANK\",\"HINDUNILVR\",\"ICICIBANK\",\"JUBLFOOD\",\"M&M\",\"MOTHERSUMI\",\"NCC\",\"OLECTRA\",\"RELIANCE\",\"PIDILITIND\",\"SBIN\",\"SOLARINDS\",\"TATACONSUM\",\"TRENT\"])\n",
    "    return dates"
   ]
  },
  {
   "cell_type": "markdown",
   "metadata": {},
   "source": [
    "# Efficient Frontier"
   ]
  },
  {
   "cell_type": "code",
   "execution_count": 4,
   "metadata": {},
   "outputs": [],
   "source": [
    "def get_portfolio_return(weights, annualized_returns):\n",
    "    '''\n",
    "    INPUT: weights and the annualized returns of all companies as a series.\n",
    "    weights are a numpy array or Nx1 matrix and returns are a numpy array or Nx1 matrix/dataframe\n",
    "    \n",
    "    OUTPUT: weighted return of the portfolio\n",
    "    '''\n",
    "    return weights.T @ annualized_returns"
   ]
  },
  {
   "cell_type": "code",
   "execution_count": 5,
   "metadata": {},
   "outputs": [],
   "source": [
    "def get_portfolio_vol(weights, cov_matrix):\n",
    "    \"\"\"\n",
    "    INPUT: weights are a numpy array or N x 1 maxtrix and covmat is an N x N matrix/dataframe\n",
    "    \n",
    "    OUTPUT: the volatility of the portfolio.\n",
    "    \n",
    "    Computes the vol of a portfolio from a covariance matrix and constituent weights\n",
    "    \"\"\"\n",
    "    return (weights.T @ cov_matrix @ weights)**0.5"
   ]
  },
  {
   "cell_type": "code",
   "execution_count": 9,
   "metadata": {},
   "outputs": [],
   "source": [
    "def get_efficient_frontier_2assets(returns_2, points_on_frontier=20):\n",
    "    \"\"\"\n",
    "    INPUT: the return dictionary of the 2 assets in the portfolio, \n",
    "    the number of points on the frontier for which you wish to calculate the return and risk\n",
    "    \n",
    "    OUTPUT: the 2-asset efficient frontier\n",
    "    \"\"\"\n",
    "    weights_2 = [np.array([w, 1-w]) for w in np.linspace(0,1,points_on_frontier)]\n",
    "    eff_frontier = pd.DataFrame(weights_2, columns=['Wt of '+x for x in list(returns_2.keys())])\n",
    "    portfolio_return = []\n",
    "    portfolio_risk = []\n",
    "    ann_returns_2 = get_AnnVol_AnnRet_Ret2Risk_Sharpe(returns_2)['Annualized Returns']\n",
    "    combined_returns_df, cov_matrix_2 = get_covariance_matrix(returns_2)\n",
    "    for weights in weights_2:\n",
    "        portfolio_return.append(get_portfolio_return(weights, ann_returns_2))\n",
    "        portfolio_risk.append(get_portfolio_vol(weights, cov_matrix_2))\n",
    "    eff_frontier['Portfolio Return'], eff_frontier['Portfolio Volatility'] = [portfolio_return, portfolio_risk]\n",
    "    return eff_frontier"
   ]
  },
  {
   "cell_type": "code",
   "execution_count": 1,
   "metadata": {},
   "outputs": [],
   "source": [
    "def minimize_vol(returns, target_return):\n",
    "    \"\"\"\n",
    "    INPUT: returns of assets in portfolio\n",
    "    \n",
    "    OUTPUT: The weights for a portfolio consisting of\n",
    "    the input assets in 'returns' that give the target return\n",
    "    \"\"\"\n",
    "    n_assets = len(list(returns.keys()))\n",
    "    init_guess = np.repeat(1/n_assets, n_assets)\n",
    "    bound = ((0.0,1.0),)*n_assets\n",
    "    \n",
    "    ann_returns = get_AnnVol_AnnRet_Ret2Risk_Sharpe(returns)['Annualized Returns']\n",
    "    combined_returns_df, cov_matrix = get_covariance_matrix(returns)\n",
    "    \n",
    "    return_is_target = {\n",
    "        'type': 'eq',\n",
    "        'args': (ann_returns,),\n",
    "        'fun': lambda weights, ann_returns: target_return - get_portfolio_return(weights, ann_returns)\n",
    "    }\n",
    "    weights_sum_to_1 = {\n",
    "        'type': 'eq',\n",
    "        'fun': lambda weights: np.sum(weights) - 1\n",
    "    }\n",
    "    \n",
    "    results = minimize(get_portfolio_vol, init_guess,\n",
    "                      args=(cov_matrix,), method='SLSQP',\n",
    "                       options={'disp': False},\n",
    "                       constraints=(weights_sum_to_1,return_is_target),\n",
    "                       bounds=bound)\n",
    "    \n",
    "    return results.x"
   ]
  },
  {
   "cell_type": "code",
   "execution_count": 2,
   "metadata": {},
   "outputs": [],
   "source": [
    "def get_frontier_weights(returns, num_target_points=50):\n",
    "    \"\"\"\n",
    "    INPUT: returns of assets to be used in portfolio and number of\n",
    "    points for which you need the weights\n",
    "    \n",
    "    OUTPUT: gives a list of returns between the min and max \n",
    "    annualised returns among the assets that are to be included\n",
    "    in the portfolio\n",
    "    \"\"\"\n",
    "    annualized_return = get_AnnVol_AnnRet_Ret2Risk_Sharpe(returns)['Annualized Returns']\n",
    "    frontier_target_returns = np.linspace(annualized_return.min(), annualized_return.max(), num_target_points)\n",
    "    frontier_target_weights = [minimize_vol(returns, target_return) for target_return in frontier_target_returns]\n",
    "    return frontier_target_weights"
   ]
  },
  {
   "cell_type": "code",
   "execution_count": 3,
   "metadata": {},
   "outputs": [],
   "source": [
    "def plot_efficient_frontier(returns, num_of_front_pts=50):\n",
    "    \"\"\"\n",
    "    Plots the multi-asset efficient frontier\n",
    "    \n",
    "    INPUT: returns of assets in portfolio and number of points on\n",
    "    the frontier that you wish to plot\n",
    "    \n",
    "    OUTPUT: risk vs return plot \n",
    "    \"\"\"\n",
    "    optimal_weights = get_frontier_weights(returns, num_of_front_pts)\n",
    "    annualized_return = get_AnnVol_AnnRet_Ret2Risk_Sharpe(returns)['Annualized Returns']\n",
    "    combined_returns_df, cov_matrix = get_covariance_matrix(returns)\n",
    "    rets = [get_portfolio_return(w, annualized_return) for w in optimal_weights]\n",
    "    vols = [get_portfolio_vol(w, cov_matrix) for w in optimal_weights]\n",
    "    ef = pd.DataFrame({\n",
    "        \"Returns\": rets, \n",
    "        \"Volatility\": vols\n",
    "    })\n",
    "    return ef.plot.line(x=\"Volatility\", y=\"Returns\", style='.-')"
   ]
  },
  {
   "cell_type": "code",
   "execution_count": null,
   "metadata": {},
   "outputs": [],
   "source": []
  }
 ],
 "metadata": {
  "kernelspec": {
   "display_name": "Python 3",
   "language": "python",
   "name": "python3"
  },
  "language_info": {
   "codemirror_mode": {
    "name": "ipython",
    "version": 3
   },
   "file_extension": ".py",
   "mimetype": "text/x-python",
   "name": "python",
   "nbconvert_exporter": "python",
   "pygments_lexer": "ipython3",
   "version": "3.7.4"
  }
 },
 "nbformat": 4,
 "nbformat_minor": 2
}
