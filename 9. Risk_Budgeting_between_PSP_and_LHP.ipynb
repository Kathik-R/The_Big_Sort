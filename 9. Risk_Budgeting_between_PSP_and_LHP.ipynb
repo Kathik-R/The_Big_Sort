{
 "cells": [
  {
   "cell_type": "markdown",
   "metadata": {},
   "source": [
    "# Naive Risk Budgeting Strategies between PSP and GHP\n",
    "\n",
    "$Objective:$ find a way to get the optimal weights for Performace Seeking Portfolio and the Liability Hedging Portfolio."
   ]
  },
  {
   "cell_type": "code",
   "execution_count": 6,
   "metadata": {},
   "outputs": [],
   "source": [
    "import pandas as pd\n",
    "import numpy as np\n",
    "import datetime\n",
    "import matplotlib as plt\n",
    "%matplotlib inline"
   ]
  },
  {
   "cell_type": "code",
   "execution_count": 7,
   "metadata": {},
   "outputs": [],
   "source": [
    "import Basic_Risk_Assessment_Tools as brat"
   ]
  },
  {
   "cell_type": "code",
   "execution_count": 8,
   "metadata": {
    "scrolled": true
   },
   "outputs": [
    {
     "name": "stdout",
     "output_type": "stream",
     "text": [
      "The autoreload extension is already loaded. To reload it, use:\n",
      "  %reload_ext autoreload\n"
     ]
    }
   ],
   "source": [
    "%load_ext autoreload\n",
    "%autoreload 2"
   ]
  },
  {
   "cell_type": "markdown",
   "metadata": {},
   "source": [
    "First, let's write a function that'll use the returns from the PSP and LHP and use an `allocator` function, which we'll eventually write, and give us the returns of the complete Portfolio."
   ]
  },
  {
   "cell_type": "code",
   "execution_count": 9,
   "metadata": {},
   "outputs": [],
   "source": [
    "def bt_mix(r1, r2, allocator, **kwargs):\n",
    "    \"\"\"\n",
    "    Runs a back test (simulation) of allocating between a two sets of returns\n",
    "    r1 and r2 are T x N DataFrames or returns where T is the time step index and N is the number of scenarios.\n",
    "    allocator is a function that takes two sets of returns and allocator specific parameters, and produces\n",
    "    an allocation to the first portfolio (the rest of the money is invested in the GHP) as a T x 1 DataFrame\n",
    "    Returns a T x N DataFrame of the resulting N portfolio scenarios\n",
    "    \"\"\"\n",
    "    if not r1.shape == r2.shape:\n",
    "        raise ValueError(\"r1 and r2 should have the same shape\")\n",
    "    weights = allocator(r1, r2, **kwargs)\n",
    "    if not weights.shape == r1.shape:\n",
    "        raise ValueError(\"Allocator returned weights with a different shape than the returns\")\n",
    "    r_mix = weights*r1 + (1-weights)*r2\n",
    "    return r_mix"
   ]
  },
  {
   "cell_type": "markdown",
   "metadata": {},
   "source": [
    "### The Simplest Allocator - Fixed Mix\n",
    "\n",
    "The allocator's job is to come up with a time series of weights, so let's create the simplest possible allocator - one that puts a fixed fraction in the first portfolio and the remaining in the second"
   ]
  },
  {
   "cell_type": "code",
   "execution_count": 10,
   "metadata": {},
   "outputs": [],
   "source": [
    "def fixedmix_allocator(r1, r2, w1, **kwargs):\n",
    "    \"\"\"\n",
    "    Produces a time series over T steps of allocations between the PSP and GHP across N scenarios\n",
    "    PSP and GHP are T x N DataFrames that represent the returns of the PSP and GHP such that:\n",
    "     each column is a scenario\n",
    "     each row is the price for a timestep\n",
    "    Returns an T x N DataFrame of PSP Weights\n",
    "    \"\"\"\n",
    "    return pd.DataFrame(data = w1, index=r1.index, columns=r1.columns)"
   ]
  },
  {
   "cell_type": "markdown",
   "metadata": {},
   "source": [
    "Using the `allocator` to get the returns for a Bond Portfolio of $60$% $10y$ $bond$ and $40$% $30y$ $bond$  we get...."
   ]
  },
  {
   "cell_type": "code",
   "execution_count": 11,
   "metadata": {},
   "outputs": [
    {
     "data": {
      "text/html": [
       "<div>\n",
       "<style scoped>\n",
       "    .dataframe tbody tr th:only-of-type {\n",
       "        vertical-align: middle;\n",
       "    }\n",
       "\n",
       "    .dataframe tbody tr th {\n",
       "        vertical-align: top;\n",
       "    }\n",
       "\n",
       "    .dataframe thead th {\n",
       "        text-align: right;\n",
       "    }\n",
       "</style>\n",
       "<table border=\"1\" class=\"dataframe\">\n",
       "  <thead>\n",
       "    <tr style=\"text-align: right;\">\n",
       "      <th></th>\n",
       "      <th>Annualized Volatility</th>\n",
       "      <th>Annualized Returns</th>\n",
       "      <th>Return to Risk Ratio</th>\n",
       "      <th>Sharpe Ratio</th>\n",
       "      <th>Max Drawdown in %</th>\n",
       "      <th>Returns Mean</th>\n",
       "      <th>Returns Median</th>\n",
       "      <th>Negatively Skewed?</th>\n",
       "      <th>Skewness</th>\n",
       "      <th>Excess Kurtosis</th>\n",
       "      <th>Normal as per Jarque?</th>\n",
       "      <th>Semi-Deviation</th>\n",
       "      <th>Gaussian VaR</th>\n",
       "      <th>Cornish-Fisher VaR</th>\n",
       "      <th>Conditional VaR</th>\n",
       "      <th>Historical VaR</th>\n",
       "    </tr>\n",
       "  </thead>\n",
       "  <tbody>\n",
       "    <tr>\n",
       "      <td>Mean Bond Returns</td>\n",
       "      <td>0.003566</td>\n",
       "      <td>0.035785</td>\n",
       "      <td>10.036306</td>\n",
       "      <td>1.579004</td>\n",
       "      <td>-0.155513</td>\n",
       "      <td>0.002935</td>\n",
       "      <td>0.00305</td>\n",
       "      <td>False</td>\n",
       "      <td>-0.661683</td>\n",
       "      <td>1.683261</td>\n",
       "      <td>False</td>\n",
       "      <td>0.0</td>\n",
       "      <td>-0.001249</td>\n",
       "      <td>-0.001099</td>\n",
       "      <td>-0.000719</td>\n",
       "      <td>-0.001551</td>\n",
       "    </tr>\n",
       "  </tbody>\n",
       "</table>\n",
       "</div>"
      ],
      "text/plain": [
       "                   Annualized Volatility  Annualized Returns  \\\n",
       "Mean Bond Returns               0.003566            0.035785   \n",
       "\n",
       "                   Return to Risk Ratio  Sharpe Ratio  Max Drawdown in %  \\\n",
       "Mean Bond Returns             10.036306      1.579004          -0.155513   \n",
       "\n",
       "                   Returns Mean  Returns Median  Negatively Skewed?  Skewness  \\\n",
       "Mean Bond Returns      0.002935         0.00305               False -0.661683   \n",
       "\n",
       "                   Excess Kurtosis  Normal as per Jarque?  Semi-Deviation  \\\n",
       "Mean Bond Returns         1.683261                  False             0.0   \n",
       "\n",
       "                   Gaussian VaR  Cornish-Fisher VaR  Conditional VaR  \\\n",
       "Mean Bond Returns     -0.001249           -0.001099        -0.000719   \n",
       "\n",
       "                   Historical VaR  \n",
       "Mean Bond Returns       -0.001551  "
      ]
     },
     "execution_count": 11,
     "metadata": {},
     "output_type": "execute_result"
    }
   ],
   "source": [
    "rates, zc_prices = brat.cir(10, 500, b=0.03, r_0 = 0.03)\n",
    "price_10 = brat.bond_price(10, 100, .05, 12, rates)\n",
    "price_30 = brat.bond_price(30, 100, .05, 12, rates)\n",
    "returns_10 = brat.bond_total_return(price_10, 100, .05, 12)\n",
    "returns_30 = brat.bond_total_return(price_30, 100, .05, 12)\n",
    "returns_bond_port = brat.bt_mix(returns_10, returns_30, allocator=brat.fixedmix_allocator, w1=0.6)\n",
    "mean_returns_bonds = returns_bond_port.mean(axis=\"columns\")\n",
    "brat.summary_stats({'Mean Bond Returns': pd.DataFrame(data=mean_returns_bonds, columns=['Mean Bond Returns'])}, annualizing_factor=12, risk_free_return=0.03)"
   ]
  },
  {
   "cell_type": "markdown",
   "metadata": {},
   "source": [
    "We now generate Simulated Equity Returns and Returns for a Zero Coupon Bond."
   ]
  },
  {
   "cell_type": "code",
   "execution_count": 13,
   "metadata": {},
   "outputs": [],
   "source": [
    "price_equity = brat.geo_brown_motion(n_years=10, n_scenarios=500, mu=0.07, sigma=0.15, steps_per_year=12)\n",
    "returns_equity = price_equity.pct_change().dropna()\n",
    "returns_zc = zc_prices.pct_change().dropna()"
   ]
  },
  {
   "cell_type": "markdown",
   "metadata": {},
   "source": [
    "Using the Bond Portfolio Returns and the Equity Returns we build a portfolio of $70$% $stocks$ and $30$% $bonds$ "
   ]
  },
  {
   "cell_type": "code",
   "execution_count": 71,
   "metadata": {},
   "outputs": [
    {
     "data": {
      "text/html": [
       "<div>\n",
       "<style scoped>\n",
       "    .dataframe tbody tr th:only-of-type {\n",
       "        vertical-align: middle;\n",
       "    }\n",
       "\n",
       "    .dataframe tbody tr th {\n",
       "        vertical-align: top;\n",
       "    }\n",
       "\n",
       "    .dataframe thead th {\n",
       "        text-align: right;\n",
       "    }\n",
       "</style>\n",
       "<table border=\"1\" class=\"dataframe\">\n",
       "  <thead>\n",
       "    <tr style=\"text-align: right;\">\n",
       "      <th></th>\n",
       "      <th>Annualized Volatility</th>\n",
       "      <th>Annualized Returns</th>\n",
       "      <th>Return to Risk Ratio</th>\n",
       "      <th>Sharpe Ratio</th>\n",
       "      <th>Max Drawdown in %</th>\n",
       "      <th>Returns Mean</th>\n",
       "      <th>Returns Median</th>\n",
       "      <th>Negatively Skewed?</th>\n",
       "      <th>Skewness</th>\n",
       "      <th>Excess Kurtosis</th>\n",
       "      <th>Normal as per Jarque?</th>\n",
       "      <th>Semi-Deviation</th>\n",
       "      <th>Gaussian VaR</th>\n",
       "      <th>Cornish-Fisher VaR</th>\n",
       "      <th>Conditional VaR</th>\n",
       "      <th>Historical VaR</th>\n",
       "    </tr>\n",
       "  </thead>\n",
       "  <tbody>\n",
       "    <tr>\n",
       "      <td>Mean Portfolio Returns</td>\n",
       "      <td>0.004966</td>\n",
       "      <td>0.06256</td>\n",
       "      <td>12.596718</td>\n",
       "      <td>6.381087</td>\n",
       "      <td>0.0</td>\n",
       "      <td>0.005071</td>\n",
       "      <td>0.005038</td>\n",
       "      <td>True</td>\n",
       "      <td>-0.057112</td>\n",
       "      <td>-0.322483</td>\n",
       "      <td>True</td>\n",
       "      <td>NaN</td>\n",
       "      <td>-0.002722</td>\n",
       "      <td>-0.00269</td>\n",
       "      <td>-0.002203</td>\n",
       "      <td>-0.002664</td>\n",
       "    </tr>\n",
       "  </tbody>\n",
       "</table>\n",
       "</div>"
      ],
      "text/plain": [
       "                        Annualized Volatility  Annualized Returns  \\\n",
       "Mean Portfolio Returns               0.004966             0.06256   \n",
       "\n",
       "                        Return to Risk Ratio  Sharpe Ratio  Max Drawdown in %  \\\n",
       "Mean Portfolio Returns             12.596718      6.381087                0.0   \n",
       "\n",
       "                        Returns Mean  Returns Median  Negatively Skewed?  \\\n",
       "Mean Portfolio Returns      0.005071        0.005038                True   \n",
       "\n",
       "                        Skewness  Excess Kurtosis  Normal as per Jarque?  \\\n",
       "Mean Portfolio Returns -0.057112        -0.322483                   True   \n",
       "\n",
       "                        Semi-Deviation  Gaussian VaR  Cornish-Fisher VaR  \\\n",
       "Mean Portfolio Returns             NaN     -0.002722            -0.00269   \n",
       "\n",
       "                        Conditional VaR  Historical VaR  \n",
       "Mean Portfolio Returns        -0.002203       -0.002664  "
      ]
     },
     "execution_count": 71,
     "metadata": {},
     "output_type": "execute_result"
    }
   ],
   "source": [
    "portfolio_returns = brat.bt_mix(returns_equity, returns_bond_port, allocator=brat.fixedmix_allocator, w1=0.7)\n",
    "mean_portfolio_returns = portfolio_returns.mean(axis='columns')\n",
    "brat.summary_stats({'Mean Portfolio Returns': pd.DataFrame(data=mean_portfolio_returns, columns=['Mean Portfolio Returns'])}, annualizing_factor=12, risk_free_return=0.03)"
   ]
  },
  {
   "cell_type": "markdown",
   "metadata": {},
   "source": [
    "It is evident that the Annualised Returns for the combined portfolio is 6%, which is an improvement from the 3.5% return from the Bond Portfolio. The Sharpe Ratio also shows a tremendous improvement to 6.3%.\n",
    "\n",
    "However, this greater return also comes with an added risk which can be seen in the higher Value at Risk parameters.\n",
    "\n",
    "Another approach is to compute stats on each scenario and then average the stats, rather than average the returns across all the scenarios....\n"
   ]
  },
  {
   "cell_type": "code",
   "execution_count": 72,
   "metadata": {
    "scrolled": true
   },
   "outputs": [
    {
     "data": {
      "text/plain": [
       "Annualized Volatility     0.107631\n",
       "Annualized Returns        0.057027\n",
       "Return to Risk Ratio      0.533272\n",
       "Sharpe Ratio              0.246476\n",
       "Max Drawdown in %       -20.335610\n",
       "Returns Mean              0.005071\n",
       "Returns Median            0.005026\n",
       "Negatively Skewed?        0.530000\n",
       "Skewness                  0.004842\n",
       "Excess Kurtosis          -0.032613\n",
       "Normal as per Jarque?     0.970000\n",
       "Semi-Deviation            0.017575\n",
       "Gaussian VaR              0.045822\n",
       "Cornish-Fisher VaR        0.045778\n",
       "Conditional VaR           0.057902\n",
       "Historical VaR            0.045035\n",
       "dtype: float64"
      ]
     },
     "execution_count": 72,
     "metadata": {},
     "output_type": "execute_result"
    }
   ],
   "source": [
    "portfolio_returns_dict = {}\n",
    "for header in list(portfolio_returns.columns):\n",
    "    portfolio_returns_dict[header] = pd.DataFrame(data=portfolio_returns[header], columns=[header])\n",
    "brat.summary_stats(portfolio_returns_dict, annualizing_factor=12, risk_free_return=0.03).mean()"
   ]
  },
  {
   "cell_type": "markdown",
   "metadata": {},
   "source": [
    "To check performance we are adding a $floor$ value, which we do not wish to breach, and a $cap$ value for which we wish to know if we're exceeding.  "
   ]
  },
  {
   "cell_type": "code",
   "execution_count": 73,
   "metadata": {},
   "outputs": [],
   "source": [
    "def terminal_values(rets):\n",
    "    \"\"\"\n",
    "    Computes the terminal values from a set of returns supplied as a T x N DataFrame\n",
    "    Return a Series of length N indexed by the columns of rets\n",
    "    \"\"\"\n",
    "    return (rets+1).prod()"
   ]
  },
  {
   "cell_type": "code",
   "execution_count": 76,
   "metadata": {},
   "outputs": [],
   "source": [
    "def terminal_stats(rets, floor = 0.8, cap=np.inf, name=\"Stats\"):\n",
    "    \"\"\"\n",
    "    Produce Summary Statistics on the terminal values per invested dollar\n",
    "    across a range of N scenarios\n",
    "    rets is a T x N DataFrame of returns, where T is the time-step (we assume rets is sorted by time)\n",
    "    Returns a 1 column DataFrame of Summary Stats indexed by the stat name \n",
    "    \"mean\": average terminal wealth,\n",
    "    \"std\" : deviation of terminal wealths from mean,\n",
    "    \"breach_count\": count of floor breaches,\n",
    "    \"reach_count\": count of cap breach,\n",
    "    \"p_breach\": probability of breach,\n",
    "    \"e_short\":average value of deviation from floor if floor is being breached,\n",
    "    \"p_reach\": probability of reach,\n",
    "    \"e_surplus\": average value of deviation from cap if cap is being breached\n",
    "    \"\"\"\n",
    "    terminal_wealth = terminal_values(rets)\n",
    "    breach = terminal_wealth < floor\n",
    "    reach = terminal_wealth >= cap\n",
    "    breach_count = breach.sum()\n",
    "    reach_count = breach.sum()\n",
    "    p_breach = breach.mean() if breach.sum() > 0 else 'N/A'\n",
    "    p_reach = reach.mean() if reach.sum() > 0 else 'N/A'\n",
    "    e_short = (floor-terminal_wealth[breach]).mean() if breach.sum() > 0 else 'N/A'\n",
    "    e_surplus = (cap-terminal_wealth[reach]).mean() if reach.sum() > 0 else 'N/A'\n",
    "    sum_stats = pd.DataFrame.from_dict({\n",
    "        \"mean\": terminal_wealth.mean(),\n",
    "        \"std\" : terminal_wealth.std(),\n",
    "        \"breach_count\": breach_count,\n",
    "        \"reach_count\": reach_count,\n",
    "        \"p_breach\": p_breach,\n",
    "        \"e_short\":e_short,\n",
    "        \"p_reach\": p_reach,\n",
    "        \"e_surplus\": e_surplus\n",
    "    }, orient=\"index\", columns=[name])\n",
    "    return sum_stats"
   ]
  },
  {
   "cell_type": "code",
   "execution_count": 77,
   "metadata": {},
   "outputs": [
    {
     "data": {
      "text/html": [
       "<div>\n",
       "<style scoped>\n",
       "    .dataframe tbody tr th:only-of-type {\n",
       "        vertical-align: middle;\n",
       "    }\n",
       "\n",
       "    .dataframe tbody tr th {\n",
       "        vertical-align: top;\n",
       "    }\n",
       "\n",
       "    .dataframe thead th {\n",
       "        text-align: right;\n",
       "    }\n",
       "</style>\n",
       "<table border=\"1\" class=\"dataframe\">\n",
       "  <thead>\n",
       "    <tr style=\"text-align: right;\">\n",
       "      <th></th>\n",
       "      <th>Fixed Income</th>\n",
       "      <th>Equities</th>\n",
       "      <th>70 Eq - 30 Bond</th>\n",
       "    </tr>\n",
       "  </thead>\n",
       "  <tbody>\n",
       "    <tr>\n",
       "      <td>mean</td>\n",
       "      <td>1.38189</td>\n",
       "      <td>2.03863</td>\n",
       "      <td>1.82576</td>\n",
       "    </tr>\n",
       "    <tr>\n",
       "      <td>std</td>\n",
       "      <td>0.105811</td>\n",
       "      <td>0.994917</td>\n",
       "      <td>0.606387</td>\n",
       "    </tr>\n",
       "    <tr>\n",
       "      <td>breach_count</td>\n",
       "      <td>0</td>\n",
       "      <td>22</td>\n",
       "      <td>4</td>\n",
       "    </tr>\n",
       "    <tr>\n",
       "      <td>reach_count</td>\n",
       "      <td>0</td>\n",
       "      <td>22</td>\n",
       "      <td>4</td>\n",
       "    </tr>\n",
       "    <tr>\n",
       "      <td>p_breach</td>\n",
       "      <td>N/A</td>\n",
       "      <td>0.044</td>\n",
       "      <td>0.008</td>\n",
       "    </tr>\n",
       "    <tr>\n",
       "      <td>e_short</td>\n",
       "      <td>N/A</td>\n",
       "      <td>0.11316</td>\n",
       "      <td>0.10901</td>\n",
       "    </tr>\n",
       "    <tr>\n",
       "      <td>p_reach</td>\n",
       "      <td>N/A</td>\n",
       "      <td>N/A</td>\n",
       "      <td>N/A</td>\n",
       "    </tr>\n",
       "    <tr>\n",
       "      <td>e_surplus</td>\n",
       "      <td>N/A</td>\n",
       "      <td>N/A</td>\n",
       "      <td>N/A</td>\n",
       "    </tr>\n",
       "  </tbody>\n",
       "</table>\n",
       "</div>"
      ],
      "text/plain": [
       "             Fixed Income  Equities 70 Eq - 30 Bond\n",
       "mean              1.38189   2.03863         1.82576\n",
       "std              0.105811  0.994917        0.606387\n",
       "breach_count            0        22               4\n",
       "reach_count             0        22               4\n",
       "p_breach              N/A     0.044           0.008\n",
       "e_short               N/A   0.11316         0.10901\n",
       "p_reach               N/A       N/A             N/A\n",
       "e_surplus             N/A       N/A             N/A"
      ]
     },
     "execution_count": 77,
     "metadata": {},
     "output_type": "execute_result"
    }
   ],
   "source": [
    "pd.concat([brat.terminal_stats(returns_bond_port, name=\"Fixed Income\"), \n",
    "           brat.terminal_stats(returns_equity, name=\"Equities\"),\n",
    "           brat.terminal_stats(portfolio_returns, name=\"70 Eq - 30 Bond\")],\n",
    "          axis=1)"
   ]
  },
  {
   "cell_type": "markdown",
   "metadata": {},
   "source": [
    "This shows that the average return of the $70$% $stocks$ and $30$% $bonds$ $portfolio$ is much higher than a $Bond$ $Portfolio$ but less than investing only in $Equities$.\n",
    "\n",
    "However, the chances of breaching the floor are considerably less in the case of a $stocks$ and $bonds$ $portfolio$ as compared to $Equity$ $Portfolio$ which makes the hybrid portfolio highly lucrative.\n",
    "\n",
    "Looking at the distribution of the $Terminal$ $Values$....."
   ]
  },
  {
   "cell_type": "code",
   "execution_count": 78,
   "metadata": {},
   "outputs": [
    {
     "data": {
      "image/png": "[encoded data removed]",
      "text/plain": [
       "<Figure size 864x432 with 1 Axes>"
      ]
     },
     "metadata": {
      "needs_background": "light"
     },
     "output_type": "display_data"
    }
   ],
   "source": [
    "import seaborn as sns\n",
    "import matplotlib.pyplot as plt\n",
    "plt.figure(figsize=(12, 6))\n",
    "sns.distplot(brat.terminal_values(returns_equity), color=\"red\", label=\"100% Equities\")\n",
    "sns.distplot(brat.terminal_values(returns_bond_port), color=\"blue\", label=\"100% Bonds\")\n",
    "sns.distplot(brat.terminal_values(portfolio_returns), color=\"orange\", label=\"70/30 Equities/Bonds\")\n",
    "plt.legend();"
   ]
  },
  {
   "cell_type": "markdown",
   "metadata": {},
   "source": [
    "Note how the higher mean return of the equities portfolio is due in part to the large upside spread in equities.\n",
    "\n",
    "## Risk Budgeting through Glide Path Allocation\n",
    "\n",
    "A potential improvement over naive fixed mix is to risk budget by making a simplistic assumption that risk = time.\n",
    "\n",
    "In other words, if you have more time, increase the risk budget. If you have less time, derisk. This is the thinking behind a Target Date Fund.\n",
    "\n",
    "Let's write an allocator that defines the weights as a glidepath that starts at a starting weight and then gradually decreases the weights to equities over time to an ending weight. For example, you can start at 80% stocks at the start of the 10 year period and then gradually move to 20% stocks by the end of the 10 year period."
   ]
  },
  {
   "cell_type": "code",
   "execution_count": 80,
   "metadata": {},
   "outputs": [],
   "source": [
    "def glidepath_allocator(r1, r2, start_glide=1, end_glide=0.0):\n",
    "    \"\"\"\n",
    "    Allocates weights to r1 starting at start_glide and ends at end_glide\n",
    "    by gradually moving from start_glide to end_glide, through equal steps,\n",
    "    over time\n",
    "    \"\"\"\n",
    "    n_points = r1.shape[0]\n",
    "    n_col = r1.shape[1]\n",
    "    path = pd.Series(data=np.linspace(start_glide, end_glide, num=n_points))\n",
    "    paths = pd.concat([path]*n_col, axis=1)\n",
    "    paths.index = r1.index\n",
    "    paths.columns = r1.columns\n",
    "    return paths"
   ]
  },
  {
   "cell_type": "code",
   "execution_count": 84,
   "metadata": {
    "scrolled": true
   },
   "outputs": [
    {
     "data": {
      "text/html": [
       "<div>\n",
       "<style scoped>\n",
       "    .dataframe tbody tr th:only-of-type {\n",
       "        vertical-align: middle;\n",
       "    }\n",
       "\n",
       "    .dataframe tbody tr th {\n",
       "        vertical-align: top;\n",
       "    }\n",
       "\n",
       "    .dataframe thead th {\n",
       "        text-align: right;\n",
       "    }\n",
       "</style>\n",
       "<table border=\"1\" class=\"dataframe\">\n",
       "  <thead>\n",
       "    <tr style=\"text-align: right;\">\n",
       "      <th></th>\n",
       "      <th>Fixed Income</th>\n",
       "      <th>Equity</th>\n",
       "      <th>Naive 70/30</th>\n",
       "      <th>Glide 80 to 20</th>\n",
       "      <th>Naive 70/30 Zero Coupon</th>\n",
       "    </tr>\n",
       "  </thead>\n",
       "  <tbody>\n",
       "    <tr>\n",
       "      <td>mean</td>\n",
       "      <td>1.38189</td>\n",
       "      <td>2.03863</td>\n",
       "      <td>1.82576</td>\n",
       "      <td>1.70736</td>\n",
       "      <td>1.79997</td>\n",
       "    </tr>\n",
       "    <tr>\n",
       "      <td>std</td>\n",
       "      <td>0.105811</td>\n",
       "      <td>0.994917</td>\n",
       "      <td>0.606387</td>\n",
       "      <td>0.428147</td>\n",
       "      <td>0.599562</td>\n",
       "    </tr>\n",
       "    <tr>\n",
       "      <td>breach_count</td>\n",
       "      <td>0</td>\n",
       "      <td>22</td>\n",
       "      <td>4</td>\n",
       "      <td>1</td>\n",
       "      <td>4</td>\n",
       "    </tr>\n",
       "    <tr>\n",
       "      <td>reach_count</td>\n",
       "      <td>0</td>\n",
       "      <td>22</td>\n",
       "      <td>4</td>\n",
       "      <td>1</td>\n",
       "      <td>4</td>\n",
       "    </tr>\n",
       "    <tr>\n",
       "      <td>p_breach</td>\n",
       "      <td>N/A</td>\n",
       "      <td>0.044</td>\n",
       "      <td>0.008</td>\n",
       "      <td>0.002</td>\n",
       "      <td>0.008</td>\n",
       "    </tr>\n",
       "    <tr>\n",
       "      <td>e_short</td>\n",
       "      <td>N/A</td>\n",
       "      <td>0.11316</td>\n",
       "      <td>0.10901</td>\n",
       "      <td>0.074661</td>\n",
       "      <td>0.102152</td>\n",
       "    </tr>\n",
       "    <tr>\n",
       "      <td>p_reach</td>\n",
       "      <td>N/A</td>\n",
       "      <td>N/A</td>\n",
       "      <td>N/A</td>\n",
       "      <td>N/A</td>\n",
       "      <td>N/A</td>\n",
       "    </tr>\n",
       "    <tr>\n",
       "      <td>e_surplus</td>\n",
       "      <td>N/A</td>\n",
       "      <td>N/A</td>\n",
       "      <td>N/A</td>\n",
       "      <td>N/A</td>\n",
       "      <td>N/A</td>\n",
       "    </tr>\n",
       "  </tbody>\n",
       "</table>\n",
       "</div>"
      ],
      "text/plain": [
       "             Fixed Income    Equity Naive 70/30 Glide 80 to 20  \\\n",
       "mean              1.38189   2.03863     1.82576        1.70736   \n",
       "std              0.105811  0.994917    0.606387       0.428147   \n",
       "breach_count            0        22           4              1   \n",
       "reach_count             0        22           4              1   \n",
       "p_breach              N/A     0.044       0.008          0.002   \n",
       "e_short               N/A   0.11316     0.10901       0.074661   \n",
       "p_reach               N/A       N/A         N/A            N/A   \n",
       "e_surplus             N/A       N/A         N/A            N/A   \n",
       "\n",
       "             Naive 70/30 Zero Coupon  \n",
       "mean                         1.79997  \n",
       "std                         0.599562  \n",
       "breach_count                       4  \n",
       "reach_count                        4  \n",
       "p_breach                       0.008  \n",
       "e_short                     0.102152  \n",
       "p_reach                          N/A  \n",
       "e_surplus                        N/A  "
      ]
     },
     "execution_count": 84,
     "metadata": {},
     "output_type": "execute_result"
    }
   ],
   "source": [
    "portfolio_returns_glide = brat.bt_mix(returns_equity, returns_bond_port, allocator=brat.glidepath_allocator, start_glide=0.8, end_glide=0.2)\n",
    "portfolio_returns_7030z = brat.bt_mix(returns_equity, returns_zc, allocator=brat.fixedmix_allocator, w1=0.7)\n",
    "pd.concat([brat.terminal_stats(returns_bond_port, name=\"Fixed Income\"), \n",
    "           brat.terminal_stats(returns_equity, name=\"Equity\"),\n",
    "           brat.terminal_stats(portfolio_returns, name=\"Naive 70/30\"),\n",
    "           brat.terminal_stats(portfolio_returns_glide, name=\"Glide 80 to 20\"),\n",
    "           brat.terminal_stats(portfolio_returns_7030z, name=\"Naive 70/30 Zero Coupon\")],\n",
    "          axis=1)"
   ]
  },
  {
   "cell_type": "markdown",
   "metadata": {},
   "source": [
    "A simple Glidepath Investment Strategy is slightly safer than the Naive Fixed Mix Allocator because the number of breaches reduce. However, it comes at the cost of mean return."
   ]
  },
  {
   "cell_type": "markdown",
   "metadata": {},
   "source": [
    "### Conclusion\n",
    "\n",
    "Static or Naive risk budgeting involves allocating between the PSP and GHP using either a simple fixed mix or a blind glidepath. These can reduce the downside risk but come at the cost the expected return, and cannot be used to secure a minimum acceptable level of wealth or liabilities."
   ]
  }
 ],
 "metadata": {
  "kernelspec": {
   "display_name": "Python 3",
   "language": "python",
   "name": "python3"
  },
  "language_info": {
   "codemirror_mode": {
    "name": "ipython",
    "version": 3
   },
   "file_extension": ".py",
   "mimetype": "text/x-python",
   "name": "python",
   "nbconvert_exporter": "python",
   "pygments_lexer": "ipython3",
   "version": "3.7.4"
  }
 },
 "nbformat": 4,
 "nbformat_minor": 2
}
